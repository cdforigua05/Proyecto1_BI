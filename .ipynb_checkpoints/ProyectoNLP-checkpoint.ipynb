{
 "cells": [
  {
   "cell_type": "markdown",
   "metadata": {},
   "source": [
    "# Proyecto 1: Revisión de sentimientos en comentarios de libros\n",
    "## Integrantes:\n",
    "* Natalia Sanabria Forero - 201532265\n",
    "* Jorge Andrés Esguerra Alarcón - 201719920\n",
    "* Christian Forigua - 201713023"
   ]
  },
  {
   "cell_type": "code",
   "execution_count": 1,
   "metadata": {},
   "outputs": [
    {
     "name": "stdout",
     "output_type": "stream",
     "text": [
      "Requirement already satisfied: contractions in /Users/jorgea/opt/anaconda3/lib/python3.8/site-packages (0.0.52)\n",
      "Requirement already satisfied: textsearch>=0.0.21 in /Users/jorgea/opt/anaconda3/lib/python3.8/site-packages (from contractions) (0.0.21)\n",
      "Requirement already satisfied: pyahocorasick in /Users/jorgea/opt/anaconda3/lib/python3.8/site-packages (from textsearch>=0.0.21->contractions) (1.4.2)\n",
      "Requirement already satisfied: anyascii in /Users/jorgea/opt/anaconda3/lib/python3.8/site-packages (from textsearch>=0.0.21->contractions) (0.3.0)\n",
      "Requirement already satisfied: numpy in /Users/jorgea/opt/anaconda3/lib/python3.8/site-packages (1.21.2)\n",
      "Requirement already satisfied: joblib in /Users/jorgea/opt/anaconda3/lib/python3.8/site-packages (1.0.1)\n",
      "Requirement already satisfied: inflect in /Users/jorgea/opt/anaconda3/lib/python3.8/site-packages (5.3.0)\n",
      "Requirement already satisfied: pandas-profiling==2.7.1 in /Users/jorgea/opt/anaconda3/lib/python3.8/site-packages (2.7.1)\n",
      "Requirement already satisfied: missingno>=0.4.2 in /Users/jorgea/opt/anaconda3/lib/python3.8/site-packages (from pandas-profiling==2.7.1) (0.4.2)\n",
      "Requirement already satisfied: matplotlib>=3.2.0 in /Users/jorgea/opt/anaconda3/lib/python3.8/site-packages (from pandas-profiling==2.7.1) (3.4.2)\n",
      "Requirement already satisfied: jinja2>=2.11.1 in /Users/jorgea/opt/anaconda3/lib/python3.8/site-packages (from pandas-profiling==2.7.1) (2.11.3)\n",
      "Requirement already satisfied: tqdm>=4.43.0 in /Users/jorgea/opt/anaconda3/lib/python3.8/site-packages (from pandas-profiling==2.7.1) (4.62.0)\n",
      "Requirement already satisfied: scipy>=1.4.1 in /Users/jorgea/opt/anaconda3/lib/python3.8/site-packages (from pandas-profiling==2.7.1) (1.6.2)\n",
      "Requirement already satisfied: astropy>=4.0 in /Users/jorgea/opt/anaconda3/lib/python3.8/site-packages (from pandas-profiling==2.7.1) (4.2.1)\n",
      "Requirement already satisfied: ipywidgets>=7.5.1 in /Users/jorgea/opt/anaconda3/lib/python3.8/site-packages (from pandas-profiling==2.7.1) (7.6.3)\n",
      "Requirement already satisfied: confuse>=1.0.0 in /Users/jorgea/opt/anaconda3/lib/python3.8/site-packages (from pandas-profiling==2.7.1) (1.5.0)\n",
      "Requirement already satisfied: phik>=0.9.10 in /Users/jorgea/opt/anaconda3/lib/python3.8/site-packages (from pandas-profiling==2.7.1) (0.11.2)\n",
      "Requirement already satisfied: joblib in /Users/jorgea/opt/anaconda3/lib/python3.8/site-packages (from pandas-profiling==2.7.1) (1.0.1)\n",
      "Requirement already satisfied: tangled-up-in-unicode>=0.0.4 in /Users/jorgea/opt/anaconda3/lib/python3.8/site-packages (from pandas-profiling==2.7.1) (0.1.0)\n",
      "Requirement already satisfied: requests>=2.23.0 in /Users/jorgea/opt/anaconda3/lib/python3.8/site-packages (from pandas-profiling==2.7.1) (2.25.1)\n",
      "Requirement already satisfied: visions[type_image_path]==0.4.1 in /Users/jorgea/opt/anaconda3/lib/python3.8/site-packages (from pandas-profiling==2.7.1) (0.4.1)\n",
      "Requirement already satisfied: pandas!=1.0.0,!=1.0.1,!=1.0.2,>=0.25.3 in /Users/jorgea/opt/anaconda3/lib/python3.8/site-packages (from pandas-profiling==2.7.1) (1.3.1)\n",
      "Requirement already satisfied: numpy>=1.16.0 in /Users/jorgea/opt/anaconda3/lib/python3.8/site-packages (from pandas-profiling==2.7.1) (1.21.2)\n",
      "Requirement already satisfied: htmlmin>=0.1.12 in /Users/jorgea/opt/anaconda3/lib/python3.8/site-packages (from pandas-profiling==2.7.1) (0.1.12)\n",
      "Requirement already satisfied: attrs>=19.3.0 in /Users/jorgea/opt/anaconda3/lib/python3.8/site-packages (from visions[type_image_path]==0.4.1->pandas-profiling==2.7.1) (21.2.0)\n",
      "Requirement already satisfied: networkx>=2.4 in /Users/jorgea/opt/anaconda3/lib/python3.8/site-packages (from visions[type_image_path]==0.4.1->pandas-profiling==2.7.1) (2.6.2)\n",
      "Requirement already satisfied: Pillow in /Users/jorgea/opt/anaconda3/lib/python3.8/site-packages (from visions[type_image_path]==0.4.1->pandas-profiling==2.7.1) (8.3.1)\n",
      "Requirement already satisfied: imagehash in /Users/jorgea/opt/anaconda3/lib/python3.8/site-packages (from visions[type_image_path]==0.4.1->pandas-profiling==2.7.1) (4.2.1)\n",
      "Requirement already satisfied: pyerfa in /Users/jorgea/opt/anaconda3/lib/python3.8/site-packages (from astropy>=4.0->pandas-profiling==2.7.1) (2.0.0)\n",
      "Requirement already satisfied: pyyaml in /Users/jorgea/opt/anaconda3/lib/python3.8/site-packages (from confuse>=1.0.0->pandas-profiling==2.7.1) (5.4.1)\n",
      "Requirement already satisfied: ipykernel>=4.5.1 in /Users/jorgea/opt/anaconda3/lib/python3.8/site-packages (from ipywidgets>=7.5.1->pandas-profiling==2.7.1) (5.3.4)\n",
      "Requirement already satisfied: nbformat>=4.2.0 in /Users/jorgea/opt/anaconda3/lib/python3.8/site-packages (from ipywidgets>=7.5.1->pandas-profiling==2.7.1) (5.1.3)\n",
      "Requirement already satisfied: ipython>=4.0.0 in /Users/jorgea/opt/anaconda3/lib/python3.8/site-packages (from ipywidgets>=7.5.1->pandas-profiling==2.7.1) (7.26.0)\n",
      "Requirement already satisfied: jupyterlab-widgets>=1.0.0 in /Users/jorgea/opt/anaconda3/lib/python3.8/site-packages (from ipywidgets>=7.5.1->pandas-profiling==2.7.1) (1.0.0)\n",
      "Requirement already satisfied: traitlets>=4.3.1 in /Users/jorgea/opt/anaconda3/lib/python3.8/site-packages (from ipywidgets>=7.5.1->pandas-profiling==2.7.1) (5.0.5)\n",
      "Requirement already satisfied: widgetsnbextension~=3.5.0 in /Users/jorgea/opt/anaconda3/lib/python3.8/site-packages (from ipywidgets>=7.5.1->pandas-profiling==2.7.1) (3.5.1)\n",
      "Requirement already satisfied: jupyter-client in /Users/jorgea/opt/anaconda3/lib/python3.8/site-packages (from ipykernel>=4.5.1->ipywidgets>=7.5.1->pandas-profiling==2.7.1) (6.1.12)\n",
      "Requirement already satisfied: appnope in /Users/jorgea/opt/anaconda3/lib/python3.8/site-packages (from ipykernel>=4.5.1->ipywidgets>=7.5.1->pandas-profiling==2.7.1) (0.1.2)\n",
      "Requirement already satisfied: tornado>=4.2 in /Users/jorgea/opt/anaconda3/lib/python3.8/site-packages (from ipykernel>=4.5.1->ipywidgets>=7.5.1->pandas-profiling==2.7.1) (6.1)\n",
      "Requirement already satisfied: pickleshare in /Users/jorgea/opt/anaconda3/lib/python3.8/site-packages (from ipython>=4.0.0->ipywidgets>=7.5.1->pandas-profiling==2.7.1) (0.7.5)\n",
      "Requirement already satisfied: setuptools>=18.5 in /Users/jorgea/opt/anaconda3/lib/python3.8/site-packages (from ipython>=4.0.0->ipywidgets>=7.5.1->pandas-profiling==2.7.1) (52.0.0.post20210125)\n",
      "Requirement already satisfied: matplotlib-inline in /Users/jorgea/opt/anaconda3/lib/python3.8/site-packages (from ipython>=4.0.0->ipywidgets>=7.5.1->pandas-profiling==2.7.1) (0.1.2)\n",
      "Requirement already satisfied: decorator in /Users/jorgea/opt/anaconda3/lib/python3.8/site-packages (from ipython>=4.0.0->ipywidgets>=7.5.1->pandas-profiling==2.7.1) (5.0.9)\n",
      "Requirement already satisfied: prompt-toolkit!=3.0.0,!=3.0.1,<3.1.0,>=2.0.0 in /Users/jorgea/opt/anaconda3/lib/python3.8/site-packages (from ipython>=4.0.0->ipywidgets>=7.5.1->pandas-profiling==2.7.1) (3.0.17)\n",
      "Requirement already satisfied: backcall in /Users/jorgea/opt/anaconda3/lib/python3.8/site-packages (from ipython>=4.0.0->ipywidgets>=7.5.1->pandas-profiling==2.7.1) (0.2.0)\n",
      "Requirement already satisfied: pygments in /Users/jorgea/opt/anaconda3/lib/python3.8/site-packages (from ipython>=4.0.0->ipywidgets>=7.5.1->pandas-profiling==2.7.1) (2.9.0)\n",
      "Requirement already satisfied: pexpect>4.3 in /Users/jorgea/opt/anaconda3/lib/python3.8/site-packages (from ipython>=4.0.0->ipywidgets>=7.5.1->pandas-profiling==2.7.1) (4.8.0)\n",
      "Requirement already satisfied: jedi>=0.16 in /Users/jorgea/opt/anaconda3/lib/python3.8/site-packages (from ipython>=4.0.0->ipywidgets>=7.5.1->pandas-profiling==2.7.1) (0.17.2)\n",
      "Requirement already satisfied: parso<0.8.0,>=0.7.0 in /Users/jorgea/opt/anaconda3/lib/python3.8/site-packages (from jedi>=0.16->ipython>=4.0.0->ipywidgets>=7.5.1->pandas-profiling==2.7.1) (0.7.0)\n",
      "Requirement already satisfied: MarkupSafe>=0.23 in /Users/jorgea/opt/anaconda3/lib/python3.8/site-packages (from jinja2>=2.11.1->pandas-profiling==2.7.1) (2.0.1)\n",
      "Requirement already satisfied: cycler>=0.10 in /Users/jorgea/opt/anaconda3/lib/python3.8/site-packages (from matplotlib>=3.2.0->pandas-profiling==2.7.1) (0.10.0)\n",
      "Requirement already satisfied: kiwisolver>=1.0.1 in /Users/jorgea/opt/anaconda3/lib/python3.8/site-packages (from matplotlib>=3.2.0->pandas-profiling==2.7.1) (1.3.1)\n",
      "Requirement already satisfied: python-dateutil>=2.7 in /Users/jorgea/opt/anaconda3/lib/python3.8/site-packages (from matplotlib>=3.2.0->pandas-profiling==2.7.1) (2.8.2)\n",
      "Requirement already satisfied: pyparsing>=2.2.1 in /Users/jorgea/opt/anaconda3/lib/python3.8/site-packages (from matplotlib>=3.2.0->pandas-profiling==2.7.1) (2.4.7)\n",
      "Requirement already satisfied: six in /Users/jorgea/opt/anaconda3/lib/python3.8/site-packages (from cycler>=0.10->matplotlib>=3.2.0->pandas-profiling==2.7.1) (1.15.0)\n",
      "Requirement already satisfied: seaborn in /Users/jorgea/opt/anaconda3/lib/python3.8/site-packages (from missingno>=0.4.2->pandas-profiling==2.7.1) (0.11.1)\n",
      "Requirement already satisfied: jsonschema!=2.5.0,>=2.4 in /Users/jorgea/opt/anaconda3/lib/python3.8/site-packages (from nbformat>=4.2.0->ipywidgets>=7.5.1->pandas-profiling==2.7.1) (3.2.0)\n",
      "Requirement already satisfied: jupyter-core in /Users/jorgea/opt/anaconda3/lib/python3.8/site-packages (from nbformat>=4.2.0->ipywidgets>=7.5.1->pandas-profiling==2.7.1) (4.7.1)\n",
      "Requirement already satisfied: ipython-genutils in /Users/jorgea/opt/anaconda3/lib/python3.8/site-packages (from nbformat>=4.2.0->ipywidgets>=7.5.1->pandas-profiling==2.7.1) (0.2.0)\n",
      "Requirement already satisfied: pyrsistent>=0.14.0 in /Users/jorgea/opt/anaconda3/lib/python3.8/site-packages (from jsonschema!=2.5.0,>=2.4->nbformat>=4.2.0->ipywidgets>=7.5.1->pandas-profiling==2.7.1) (0.17.3)\n",
      "Requirement already satisfied: pytz>=2017.3 in /Users/jorgea/opt/anaconda3/lib/python3.8/site-packages (from pandas!=1.0.0,!=1.0.1,!=1.0.2,>=0.25.3->pandas-profiling==2.7.1) (2021.1)\n",
      "Requirement already satisfied: ptyprocess>=0.5 in /Users/jorgea/opt/anaconda3/lib/python3.8/site-packages (from pexpect>4.3->ipython>=4.0.0->ipywidgets>=7.5.1->pandas-profiling==2.7.1) (0.7.0)\n",
      "Requirement already satisfied: wcwidth in /Users/jorgea/opt/anaconda3/lib/python3.8/site-packages (from prompt-toolkit!=3.0.0,!=3.0.1,<3.1.0,>=2.0.0->ipython>=4.0.0->ipywidgets>=7.5.1->pandas-profiling==2.7.1) (0.2.5)\n",
      "Requirement already satisfied: idna<3,>=2.5 in /Users/jorgea/opt/anaconda3/lib/python3.8/site-packages (from requests>=2.23.0->pandas-profiling==2.7.1) (2.10)\n",
      "Requirement already satisfied: urllib3<1.27,>=1.21.1 in /Users/jorgea/opt/anaconda3/lib/python3.8/site-packages (from requests>=2.23.0->pandas-profiling==2.7.1) (1.26.6)\n",
      "Requirement already satisfied: chardet<5,>=3.0.2 in /Users/jorgea/opt/anaconda3/lib/python3.8/site-packages (from requests>=2.23.0->pandas-profiling==2.7.1) (4.0.0)\n",
      "Requirement already satisfied: certifi>=2017.4.17 in /Users/jorgea/opt/anaconda3/lib/python3.8/site-packages (from requests>=2.23.0->pandas-profiling==2.7.1) (2021.5.30)\n",
      "Requirement already satisfied: notebook>=4.4.1 in /Users/jorgea/opt/anaconda3/lib/python3.8/site-packages (from widgetsnbextension~=3.5.0->ipywidgets>=7.5.1->pandas-profiling==2.7.1) (6.4.1)\n",
      "Requirement already satisfied: nbconvert in /Users/jorgea/opt/anaconda3/lib/python3.8/site-packages (from notebook>=4.4.1->widgetsnbextension~=3.5.0->ipywidgets>=7.5.1->pandas-profiling==2.7.1) (6.1.0)\n",
      "Requirement already satisfied: Send2Trash>=1.5.0 in /Users/jorgea/opt/anaconda3/lib/python3.8/site-packages (from notebook>=4.4.1->widgetsnbextension~=3.5.0->ipywidgets>=7.5.1->pandas-profiling==2.7.1) (1.5.0)\n",
      "Requirement already satisfied: prometheus-client in /Users/jorgea/opt/anaconda3/lib/python3.8/site-packages (from notebook>=4.4.1->widgetsnbextension~=3.5.0->ipywidgets>=7.5.1->pandas-profiling==2.7.1) (0.11.0)\n",
      "Requirement already satisfied: terminado>=0.8.3 in /Users/jorgea/opt/anaconda3/lib/python3.8/site-packages (from notebook>=4.4.1->widgetsnbextension~=3.5.0->ipywidgets>=7.5.1->pandas-profiling==2.7.1) (0.9.4)\n",
      "Requirement already satisfied: pyzmq>=17 in /Users/jorgea/opt/anaconda3/lib/python3.8/site-packages (from notebook>=4.4.1->widgetsnbextension~=3.5.0->ipywidgets>=7.5.1->pandas-profiling==2.7.1) (20.0.0)\n",
      "Requirement already satisfied: argon2-cffi in /Users/jorgea/opt/anaconda3/lib/python3.8/site-packages (from notebook>=4.4.1->widgetsnbextension~=3.5.0->ipywidgets>=7.5.1->pandas-profiling==2.7.1) (20.1.0)\n",
      "Requirement already satisfied: cffi>=1.0.0 in /Users/jorgea/opt/anaconda3/lib/python3.8/site-packages (from argon2-cffi->notebook>=4.4.1->widgetsnbextension~=3.5.0->ipywidgets>=7.5.1->pandas-profiling==2.7.1) (1.14.6)\n",
      "Requirement already satisfied: pycparser in /Users/jorgea/opt/anaconda3/lib/python3.8/site-packages (from cffi>=1.0.0->argon2-cffi->notebook>=4.4.1->widgetsnbextension~=3.5.0->ipywidgets>=7.5.1->pandas-profiling==2.7.1) (2.20)\n",
      "Requirement already satisfied: PyWavelets in /Users/jorgea/opt/anaconda3/lib/python3.8/site-packages (from imagehash->visions[type_image_path]==0.4.1->pandas-profiling==2.7.1) (1.1.1)\n",
      "Requirement already satisfied: pandocfilters>=1.4.1 in /Users/jorgea/opt/anaconda3/lib/python3.8/site-packages (from nbconvert->notebook>=4.4.1->widgetsnbextension~=3.5.0->ipywidgets>=7.5.1->pandas-profiling==2.7.1) (1.4.3)\n",
      "Requirement already satisfied: entrypoints>=0.2.2 in /Users/jorgea/opt/anaconda3/lib/python3.8/site-packages (from nbconvert->notebook>=4.4.1->widgetsnbextension~=3.5.0->ipywidgets>=7.5.1->pandas-profiling==2.7.1) (0.3)\n",
      "Requirement already satisfied: jupyterlab-pygments in /Users/jorgea/opt/anaconda3/lib/python3.8/site-packages (from nbconvert->notebook>=4.4.1->widgetsnbextension~=3.5.0->ipywidgets>=7.5.1->pandas-profiling==2.7.1) (0.1.2)\n",
      "Requirement already satisfied: defusedxml in /Users/jorgea/opt/anaconda3/lib/python3.8/site-packages (from nbconvert->notebook>=4.4.1->widgetsnbextension~=3.5.0->ipywidgets>=7.5.1->pandas-profiling==2.7.1) (0.7.1)\n",
      "Requirement already satisfied: mistune<2,>=0.8.1 in /Users/jorgea/opt/anaconda3/lib/python3.8/site-packages (from nbconvert->notebook>=4.4.1->widgetsnbextension~=3.5.0->ipywidgets>=7.5.1->pandas-profiling==2.7.1) (0.8.4)\n",
      "Requirement already satisfied: nbclient<0.6.0,>=0.5.0 in /Users/jorgea/opt/anaconda3/lib/python3.8/site-packages (from nbconvert->notebook>=4.4.1->widgetsnbextension~=3.5.0->ipywidgets>=7.5.1->pandas-profiling==2.7.1) (0.5.3)\n",
      "Requirement already satisfied: bleach in /Users/jorgea/opt/anaconda3/lib/python3.8/site-packages (from nbconvert->notebook>=4.4.1->widgetsnbextension~=3.5.0->ipywidgets>=7.5.1->pandas-profiling==2.7.1) (4.0.0)\n",
      "Requirement already satisfied: testpath in /Users/jorgea/opt/anaconda3/lib/python3.8/site-packages (from nbconvert->notebook>=4.4.1->widgetsnbextension~=3.5.0->ipywidgets>=7.5.1->pandas-profiling==2.7.1) (0.5.0)\n",
      "Requirement already satisfied: async-generator in /Users/jorgea/opt/anaconda3/lib/python3.8/site-packages (from nbclient<0.6.0,>=0.5.0->nbconvert->notebook>=4.4.1->widgetsnbextension~=3.5.0->ipywidgets>=7.5.1->pandas-profiling==2.7.1) (1.10)\n",
      "Requirement already satisfied: nest-asyncio in /Users/jorgea/opt/anaconda3/lib/python3.8/site-packages (from nbclient<0.6.0,>=0.5.0->nbconvert->notebook>=4.4.1->widgetsnbextension~=3.5.0->ipywidgets>=7.5.1->pandas-profiling==2.7.1) (1.5.1)\n",
      "Requirement already satisfied: packaging in /Users/jorgea/opt/anaconda3/lib/python3.8/site-packages (from bleach->nbconvert->notebook>=4.4.1->widgetsnbextension~=3.5.0->ipywidgets>=7.5.1->pandas-profiling==2.7.1) (21.0)\n",
      "Requirement already satisfied: webencodings in /Users/jorgea/opt/anaconda3/lib/python3.8/site-packages (from bleach->nbconvert->notebook>=4.4.1->widgetsnbextension~=3.5.0->ipywidgets>=7.5.1->pandas-profiling==2.7.1) (0.5.1)\n",
      "Requirement already satisfied: nltk in /Users/jorgea/opt/anaconda3/lib/python3.8/site-packages (3.6.2)\n",
      "Requirement already satisfied: tqdm in /Users/jorgea/opt/anaconda3/lib/python3.8/site-packages (from nltk) (4.62.0)\n",
      "Requirement already satisfied: click in /Users/jorgea/opt/anaconda3/lib/python3.8/site-packages (from nltk) (8.0.1)\n",
      "Requirement already satisfied: joblib in /Users/jorgea/opt/anaconda3/lib/python3.8/site-packages (from nltk) (1.0.1)\n",
      "Requirement already satisfied: regex in /Users/jorgea/opt/anaconda3/lib/python3.8/site-packages (from nltk) (2021.4.4)\n",
      "Requirement already satisfied: sklearn in /Users/jorgea/opt/anaconda3/lib/python3.8/site-packages (0.0)\n",
      "Requirement already satisfied: scikit-learn in /Users/jorgea/opt/anaconda3/lib/python3.8/site-packages (from sklearn) (0.24.2)\n",
      "Requirement already satisfied: joblib>=0.11 in /Users/jorgea/opt/anaconda3/lib/python3.8/site-packages (from scikit-learn->sklearn) (1.0.1)\n",
      "Requirement already satisfied: numpy>=1.13.3 in /Users/jorgea/opt/anaconda3/lib/python3.8/site-packages (from scikit-learn->sklearn) (1.21.2)\n",
      "Requirement already satisfied: threadpoolctl>=2.0.0 in /Users/jorgea/opt/anaconda3/lib/python3.8/site-packages (from scikit-learn->sklearn) (2.2.0)\n",
      "Requirement already satisfied: scipy>=0.19.1 in /Users/jorgea/opt/anaconda3/lib/python3.8/site-packages (from scikit-learn->sklearn) (1.6.2)\n"
     ]
    }
   ],
   "source": [
    "# Librería para manejar las contracciones que se presentan en el inglés.\n",
    "!pip install contractions\n",
    "!pip install numpy -U\n",
    "!pip install joblib\n",
    "# librería para manejar las flexiones gramaticales en el idioma inglés.\n",
    "!pip install inflect\n",
    "!pip install pandas-profiling==2.7.1\n",
    "!pip install nltk\n",
    "!pip install sklearn"
   ]
  },
  {
   "cell_type": "markdown",
   "metadata": {},
   "source": [
    "## 1. Librerías para el procesamiento de texto"
   ]
  },
  {
   "cell_type": "code",
   "execution_count": 2,
   "metadata": {},
   "outputs": [
    {
     "name": "stderr",
     "output_type": "stream",
     "text": [
      "[nltk_data] Downloading package punkt to /Users/jorgea/nltk_data...\n",
      "[nltk_data]   Package punkt is already up-to-date!\n",
      "[nltk_data] Downloading package stopwords to\n",
      "[nltk_data]     /Users/jorgea/nltk_data...\n",
      "[nltk_data]   Package stopwords is already up-to-date!\n",
      "[nltk_data] Downloading package wordnet to /Users/jorgea/nltk_data...\n",
      "[nltk_data]   Package wordnet is already up-to-date!\n"
     ]
    }
   ],
   "source": [
    "# Procesamiento de Lenguaje Natural\n",
    "import nltk\n",
    "nltk.download('punkt') # Separar texto en frases\n",
    "nltk.download('stopwords') # Palabras vacías\n",
    "nltk.download('wordnet') # Entender el significado de las palabras\n",
    "\n",
    "# Otras librerías\n",
    "import pandas as pd\n",
    "pd.options.mode.chained_assignment = None\n",
    "import numpy as np\n",
    "import sys\n",
    "from pandas_profiling import ProfileReport\n",
    "\n",
    "import re, string, unicodedata\n",
    "import contractions\n",
    "import inflect\n",
    "from nltk import word_tokenize, sent_tokenize\n",
    "from nltk.corpus import stopwords\n",
    "from nltk.stem import LancasterStemmer, WordNetLemmatizer\n",
    "\n",
    "from sklearn.model_selection import train_test_split,GridSearchCV\n",
    "from sklearn.feature_extraction.text import TfidfVectorizer, CountVectorizer, HashingVectorizer\n",
    "from sklearn.pipeline import Pipeline, FeatureUnion\n",
    "from sklearn.svm import SVC\n",
    "from sklearn.metrics import plot_confusion_matrix\n",
    "from sklearn.ensemble import BaggingClassifier, RandomForestClassifier, AdaBoostClassifier\n",
    "from sklearn.naive_bayes import BernoulliNB\n",
    "from sklearn.metrics import classification_report, confusion_matrix, plot_precision_recall_curve, accuracy_score\n",
    "from sklearn.base import BaseEstimator, ClassifierMixin\n",
    "\n",
    "import matplotlib.pyplot as plt"
   ]
  },
  {
   "cell_type": "markdown",
   "metadata": {},
   "source": [
    "## 2. Perfilamiento y entendimiento de los datos\n",
    "### Lectura de los datos"
   ]
  },
  {
   "cell_type": "code",
   "execution_count": 3,
   "metadata": {},
   "outputs": [
    {
     "data": {
      "text/html": [
       "<div>\n",
       "<style scoped>\n",
       "    .dataframe tbody tr th:only-of-type {\n",
       "        vertical-align: middle;\n",
       "    }\n",
       "\n",
       "    .dataframe tbody tr th {\n",
       "        vertical-align: top;\n",
       "    }\n",
       "\n",
       "    .dataframe thead th {\n",
       "        text-align: right;\n",
       "    }\n",
       "</style>\n",
       "<table border=\"1\" class=\"dataframe\">\n",
       "  <thead>\n",
       "    <tr style=\"text-align: right;\">\n",
       "      <th></th>\n",
       "      <th>Unnamed: 0</th>\n",
       "      <th>asin</th>\n",
       "      <th>helpful</th>\n",
       "      <th>overall</th>\n",
       "      <th>reviewText</th>\n",
       "      <th>reviewTime</th>\n",
       "      <th>reviewerID</th>\n",
       "      <th>reviewerName</th>\n",
       "      <th>summary</th>\n",
       "      <th>unixReviewTime</th>\n",
       "    </tr>\n",
       "  </thead>\n",
       "  <tbody>\n",
       "    <tr>\n",
       "      <th>0</th>\n",
       "      <td>0</td>\n",
       "      <td>B000F83SZQ</td>\n",
       "      <td>[0, 0]</td>\n",
       "      <td>5</td>\n",
       "      <td>I enjoy vintage books and movies so I enjoyed ...</td>\n",
       "      <td>05 5, 2014</td>\n",
       "      <td>A1F6404F1VG29J</td>\n",
       "      <td>Avidreader</td>\n",
       "      <td>Nice vintage story</td>\n",
       "      <td>1399248000</td>\n",
       "    </tr>\n",
       "    <tr>\n",
       "      <th>1</th>\n",
       "      <td>1</td>\n",
       "      <td>B000F83SZQ</td>\n",
       "      <td>[2, 2]</td>\n",
       "      <td>4</td>\n",
       "      <td>This book is a reissue of an old one; the auth...</td>\n",
       "      <td>01 6, 2014</td>\n",
       "      <td>AN0N05A9LIJEQ</td>\n",
       "      <td>critters</td>\n",
       "      <td>Different...</td>\n",
       "      <td>1388966400</td>\n",
       "    </tr>\n",
       "    <tr>\n",
       "      <th>2</th>\n",
       "      <td>2</td>\n",
       "      <td>B000F83SZQ</td>\n",
       "      <td>[2, 2]</td>\n",
       "      <td>4</td>\n",
       "      <td>This was a fairly interesting read.  It had ol...</td>\n",
       "      <td>04 4, 2014</td>\n",
       "      <td>A795DMNCJILA6</td>\n",
       "      <td>dot</td>\n",
       "      <td>Oldie</td>\n",
       "      <td>1396569600</td>\n",
       "    </tr>\n",
       "    <tr>\n",
       "      <th>3</th>\n",
       "      <td>3</td>\n",
       "      <td>B000F83SZQ</td>\n",
       "      <td>[1, 1]</td>\n",
       "      <td>5</td>\n",
       "      <td>I'd never read any of the Amy Brewster mysteri...</td>\n",
       "      <td>02 19, 2014</td>\n",
       "      <td>A1FV0SX13TWVXQ</td>\n",
       "      <td>Elaine H. Turley \"Montana Songbird\"</td>\n",
       "      <td>I really liked it.</td>\n",
       "      <td>1392768000</td>\n",
       "    </tr>\n",
       "    <tr>\n",
       "      <th>4</th>\n",
       "      <td>4</td>\n",
       "      <td>B000F83SZQ</td>\n",
       "      <td>[0, 1]</td>\n",
       "      <td>4</td>\n",
       "      <td>If you like period pieces - clothing, lingo, y...</td>\n",
       "      <td>03 19, 2014</td>\n",
       "      <td>A3SPTOKDG7WBLN</td>\n",
       "      <td>Father Dowling Fan</td>\n",
       "      <td>Period Mystery</td>\n",
       "      <td>1395187200</td>\n",
       "    </tr>\n",
       "  </tbody>\n",
       "</table>\n",
       "</div>"
      ],
      "text/plain": [
       "   Unnamed: 0        asin helpful  overall  \\\n",
       "0           0  B000F83SZQ  [0, 0]        5   \n",
       "1           1  B000F83SZQ  [2, 2]        4   \n",
       "2           2  B000F83SZQ  [2, 2]        4   \n",
       "3           3  B000F83SZQ  [1, 1]        5   \n",
       "4           4  B000F83SZQ  [0, 1]        4   \n",
       "\n",
       "                                          reviewText   reviewTime  \\\n",
       "0  I enjoy vintage books and movies so I enjoyed ...   05 5, 2014   \n",
       "1  This book is a reissue of an old one; the auth...   01 6, 2014   \n",
       "2  This was a fairly interesting read.  It had ol...   04 4, 2014   \n",
       "3  I'd never read any of the Amy Brewster mysteri...  02 19, 2014   \n",
       "4  If you like period pieces - clothing, lingo, y...  03 19, 2014   \n",
       "\n",
       "       reviewerID                         reviewerName             summary  \\\n",
       "0  A1F6404F1VG29J                           Avidreader  Nice vintage story   \n",
       "1   AN0N05A9LIJEQ                             critters        Different...   \n",
       "2   A795DMNCJILA6                                  dot               Oldie   \n",
       "3  A1FV0SX13TWVXQ  Elaine H. Turley \"Montana Songbird\"  I really liked it.   \n",
       "4  A3SPTOKDG7WBLN                   Father Dowling Fan      Period Mystery   \n",
       "\n",
       "   unixReviewTime  \n",
       "0      1399248000  \n",
       "1      1388966400  \n",
       "2      1396569600  \n",
       "3      1392768000  \n",
       "4      1395187200  "
      ]
     },
     "execution_count": 3,
     "metadata": {},
     "output_type": "execute_result"
    }
   ],
   "source": [
    "data = pd.read_csv('./kindle_reviews.csv')\n",
    "data.head()"
   ]
  },
  {
   "cell_type": "code",
   "execution_count": 4,
   "metadata": {},
   "outputs": [
    {
     "name": "stdout",
     "output_type": "stream",
     "text": [
      "filas: 982619, columnas: 10\n"
     ]
    }
   ],
   "source": [
    "# Dimensiones de los datos\n",
    "rows, cols = data.shape\n",
    "print(f\"filas: {rows}, columnas: {cols}\")"
   ]
  },
  {
   "cell_type": "markdown",
   "metadata": {},
   "source": [
    "### Entendimiento de los datos"
   ]
  },
  {
   "cell_type": "code",
   "execution_count": 5,
   "metadata": {},
   "outputs": [
    {
     "data": {
      "text/html": [
       "<div>\n",
       "<style scoped>\n",
       "    .dataframe tbody tr th:only-of-type {\n",
       "        vertical-align: middle;\n",
       "    }\n",
       "\n",
       "    .dataframe tbody tr th {\n",
       "        vertical-align: top;\n",
       "    }\n",
       "\n",
       "    .dataframe thead th {\n",
       "        text-align: right;\n",
       "    }\n",
       "</style>\n",
       "<table border=\"1\" class=\"dataframe\">\n",
       "  <thead>\n",
       "    <tr style=\"text-align: right;\">\n",
       "      <th></th>\n",
       "      <th>Unnamed: 0</th>\n",
       "      <th>overall</th>\n",
       "      <th>unixReviewTime</th>\n",
       "    </tr>\n",
       "  </thead>\n",
       "  <tbody>\n",
       "    <tr>\n",
       "      <th>count</th>\n",
       "      <td>982619.000000</td>\n",
       "      <td>982619.000000</td>\n",
       "      <td>9.826190e+05</td>\n",
       "    </tr>\n",
       "    <tr>\n",
       "      <th>mean</th>\n",
       "      <td>491309.000000</td>\n",
       "      <td>4.347801</td>\n",
       "      <td>1.378183e+09</td>\n",
       "    </tr>\n",
       "    <tr>\n",
       "      <th>std</th>\n",
       "      <td>283657.816416</td>\n",
       "      <td>0.955056</td>\n",
       "      <td>2.298476e+07</td>\n",
       "    </tr>\n",
       "    <tr>\n",
       "      <th>min</th>\n",
       "      <td>0.000000</td>\n",
       "      <td>1.000000</td>\n",
       "      <td>9.522144e+08</td>\n",
       "    </tr>\n",
       "    <tr>\n",
       "      <th>25%</th>\n",
       "      <td>245654.500000</td>\n",
       "      <td>4.000000</td>\n",
       "      <td>1.365206e+09</td>\n",
       "    </tr>\n",
       "    <tr>\n",
       "      <th>50%</th>\n",
       "      <td>491309.000000</td>\n",
       "      <td>5.000000</td>\n",
       "      <td>1.383523e+09</td>\n",
       "    </tr>\n",
       "    <tr>\n",
       "      <th>75%</th>\n",
       "      <td>736963.500000</td>\n",
       "      <td>5.000000</td>\n",
       "      <td>1.396051e+09</td>\n",
       "    </tr>\n",
       "    <tr>\n",
       "      <th>max</th>\n",
       "      <td>982618.000000</td>\n",
       "      <td>5.000000</td>\n",
       "      <td>1.406074e+09</td>\n",
       "    </tr>\n",
       "  </tbody>\n",
       "</table>\n",
       "</div>"
      ],
      "text/plain": [
       "          Unnamed: 0        overall  unixReviewTime\n",
       "count  982619.000000  982619.000000    9.826190e+05\n",
       "mean   491309.000000       4.347801    1.378183e+09\n",
       "std    283657.816416       0.955056    2.298476e+07\n",
       "min         0.000000       1.000000    9.522144e+08\n",
       "25%    245654.500000       4.000000    1.365206e+09\n",
       "50%    491309.000000       5.000000    1.383523e+09\n",
       "75%    736963.500000       5.000000    1.396051e+09\n",
       "max    982618.000000       5.000000    1.406074e+09"
      ]
     },
     "execution_count": 5,
     "metadata": {},
     "output_type": "execute_result"
    }
   ],
   "source": [
    "data.describe()"
   ]
  },
  {
   "cell_type": "code",
   "execution_count": 6,
   "metadata": {},
   "outputs": [
    {
     "name": "stdout",
     "output_type": "stream",
     "text": [
      "<class 'pandas.core.frame.DataFrame'>\n",
      "RangeIndex: 982619 entries, 0 to 982618\n",
      "Data columns (total 10 columns):\n",
      " #   Column          Non-Null Count   Dtype \n",
      "---  ------          --------------   ----- \n",
      " 0   Unnamed: 0      982619 non-null  int64 \n",
      " 1   asin            982619 non-null  object\n",
      " 2   helpful         982619 non-null  object\n",
      " 3   overall         982619 non-null  int64 \n",
      " 4   reviewText      982597 non-null  object\n",
      " 5   reviewTime      982619 non-null  object\n",
      " 6   reviewerID      982619 non-null  object\n",
      " 7   reviewerName    978803 non-null  object\n",
      " 8   summary         982618 non-null  object\n",
      " 9   unixReviewTime  982619 non-null  int64 \n",
      "dtypes: int64(3), object(7)\n",
      "memory usage: 75.0+ MB\n"
     ]
    }
   ],
   "source": [
    "data.info(verbose=True)"
   ]
  },
  {
   "cell_type": "code",
   "execution_count": 7,
   "metadata": {},
   "outputs": [
    {
     "data": {
      "image/png": "[encoded data removed]",
      "text/plain": [
       "<Figure size 800x550 with 1 Axes>"
      ]
     },
     "metadata": {},
     "output_type": "display_data"
    }
   ],
   "source": [
    "data['overall'].value_counts().plot(kind = 'bar')\n",
    "plt.title('Distribución de los puntajes de los productos')\n",
    "plt.xlabel('Ranking')\n",
    "plt.xticks(rotation = 0)\n",
    "plt.ylabel('# Registros')\n",
    "plt.show()"
   ]
  },
  {
   "cell_type": "code",
   "execution_count": 8,
   "metadata": {},
   "outputs": [
    {
     "data": {
      "text/html": [
       "<div>\n",
       "<style scoped>\n",
       "    .dataframe tbody tr th:only-of-type {\n",
       "        vertical-align: middle;\n",
       "    }\n",
       "\n",
       "    .dataframe tbody tr th {\n",
       "        vertical-align: top;\n",
       "    }\n",
       "\n",
       "    .dataframe thead th {\n",
       "        text-align: right;\n",
       "    }\n",
       "</style>\n",
       "<table border=\"1\" class=\"dataframe\">\n",
       "  <thead>\n",
       "    <tr style=\"text-align: right;\">\n",
       "      <th></th>\n",
       "      <th>0</th>\n",
       "    </tr>\n",
       "  </thead>\n",
       "  <tbody>\n",
       "    <tr>\n",
       "      <th>reviewerName</th>\n",
       "      <td>3816</td>\n",
       "    </tr>\n",
       "    <tr>\n",
       "      <th>reviewText</th>\n",
       "      <td>22</td>\n",
       "    </tr>\n",
       "    <tr>\n",
       "      <th>summary</th>\n",
       "      <td>1</td>\n",
       "    </tr>\n",
       "    <tr>\n",
       "      <th>Unnamed: 0</th>\n",
       "      <td>0</td>\n",
       "    </tr>\n",
       "    <tr>\n",
       "      <th>asin</th>\n",
       "      <td>0</td>\n",
       "    </tr>\n",
       "    <tr>\n",
       "      <th>helpful</th>\n",
       "      <td>0</td>\n",
       "    </tr>\n",
       "    <tr>\n",
       "      <th>overall</th>\n",
       "      <td>0</td>\n",
       "    </tr>\n",
       "    <tr>\n",
       "      <th>reviewTime</th>\n",
       "      <td>0</td>\n",
       "    </tr>\n",
       "    <tr>\n",
       "      <th>reviewerID</th>\n",
       "      <td>0</td>\n",
       "    </tr>\n",
       "    <tr>\n",
       "      <th>unixReviewTime</th>\n",
       "      <td>0</td>\n",
       "    </tr>\n",
       "  </tbody>\n",
       "</table>\n",
       "</div>"
      ],
      "text/plain": [
       "                   0\n",
       "reviewerName    3816\n",
       "reviewText        22\n",
       "summary            1\n",
       "Unnamed: 0         0\n",
       "asin               0\n",
       "helpful            0\n",
       "overall            0\n",
       "reviewTime         0\n",
       "reviewerID         0\n",
       "unixReviewTime     0"
      ]
     },
     "execution_count": 8,
     "metadata": {},
     "output_type": "execute_result"
    }
   ],
   "source": [
    "df_data = (data.isna().sum()).to_frame()\n",
    "df_data.sort_values(0, ascending = False)"
   ]
  },
  {
   "cell_type": "code",
   "execution_count": 9,
   "metadata": {},
   "outputs": [
    {
     "data": {
      "text/html": [
       "<div>\n",
       "<style scoped>\n",
       "    .dataframe tbody tr th:only-of-type {\n",
       "        vertical-align: middle;\n",
       "    }\n",
       "\n",
       "    .dataframe tbody tr th {\n",
       "        vertical-align: top;\n",
       "    }\n",
       "\n",
       "    .dataframe thead th {\n",
       "        text-align: right;\n",
       "    }\n",
       "</style>\n",
       "<table border=\"1\" class=\"dataframe\">\n",
       "  <thead>\n",
       "    <tr style=\"text-align: right;\">\n",
       "      <th></th>\n",
       "      <th>0</th>\n",
       "    </tr>\n",
       "  </thead>\n",
       "  <tbody>\n",
       "    <tr>\n",
       "      <th>reviewText</th>\n",
       "      <td>22</td>\n",
       "    </tr>\n",
       "    <tr>\n",
       "      <th>summary</th>\n",
       "      <td>1</td>\n",
       "    </tr>\n",
       "    <tr>\n",
       "      <th>overall</th>\n",
       "      <td>0</td>\n",
       "    </tr>\n",
       "  </tbody>\n",
       "</table>\n",
       "</div>"
      ],
      "text/plain": [
       "             0\n",
       "reviewText  22\n",
       "summary      1\n",
       "overall      0"
      ]
     },
     "execution_count": 9,
     "metadata": {},
     "output_type": "execute_result"
    }
   ],
   "source": [
    "reviews = data[['reviewText', 'overall','summary']]\n",
    "df_data = (reviews.isna().sum()).to_frame()\n",
    "df_data.sort_values(0, ascending = False)"
   ]
  },
  {
   "cell_type": "code",
   "execution_count": 10,
   "metadata": {},
   "outputs": [
    {
     "data": {
      "text/html": [
       "<div>\n",
       "<style scoped>\n",
       "    .dataframe tbody tr th:only-of-type {\n",
       "        vertical-align: middle;\n",
       "    }\n",
       "\n",
       "    .dataframe tbody tr th {\n",
       "        vertical-align: top;\n",
       "    }\n",
       "\n",
       "    .dataframe thead th {\n",
       "        text-align: right;\n",
       "    }\n",
       "</style>\n",
       "<table border=\"1\" class=\"dataframe\">\n",
       "  <thead>\n",
       "    <tr style=\"text-align: right;\">\n",
       "      <th></th>\n",
       "      <th>reviewText</th>\n",
       "      <th>overall</th>\n",
       "      <th>summary</th>\n",
       "    </tr>\n",
       "  </thead>\n",
       "  <tbody>\n",
       "    <tr>\n",
       "      <th>0</th>\n",
       "      <td>I enjoy vintage books and movies so I enjoyed ...</td>\n",
       "      <td>5</td>\n",
       "      <td>Nice vintage story</td>\n",
       "    </tr>\n",
       "    <tr>\n",
       "      <th>1</th>\n",
       "      <td>This book is a reissue of an old one; the auth...</td>\n",
       "      <td>4</td>\n",
       "      <td>Different...</td>\n",
       "    </tr>\n",
       "    <tr>\n",
       "      <th>2</th>\n",
       "      <td>This was a fairly interesting read.  It had ol...</td>\n",
       "      <td>4</td>\n",
       "      <td>Oldie</td>\n",
       "    </tr>\n",
       "    <tr>\n",
       "      <th>3</th>\n",
       "      <td>I'd never read any of the Amy Brewster mysteri...</td>\n",
       "      <td>5</td>\n",
       "      <td>I really liked it.</td>\n",
       "    </tr>\n",
       "    <tr>\n",
       "      <th>4</th>\n",
       "      <td>If you like period pieces - clothing, lingo, y...</td>\n",
       "      <td>4</td>\n",
       "      <td>Period Mystery</td>\n",
       "    </tr>\n",
       "    <tr>\n",
       "      <th>...</th>\n",
       "      <td>...</td>\n",
       "      <td>...</td>\n",
       "      <td>...</td>\n",
       "    </tr>\n",
       "    <tr>\n",
       "      <th>982614</th>\n",
       "      <td>Yasss hunny! This is a great read. That Dre is...</td>\n",
       "      <td>5</td>\n",
       "      <td>A Hot Read Indeed!!</td>\n",
       "    </tr>\n",
       "    <tr>\n",
       "      <th>982615</th>\n",
       "      <td>I ENJOYED THIS BOOK FROM BEGINNING TO END NOW ...</td>\n",
       "      <td>5</td>\n",
       "      <td>VERY GOOD BOOK</td>\n",
       "    </tr>\n",
       "    <tr>\n",
       "      <th>982616</th>\n",
       "      <td>Great book! Cherika was a fool. She let that m...</td>\n",
       "      <td>5</td>\n",
       "      <td>Great Read</td>\n",
       "    </tr>\n",
       "    <tr>\n",
       "      <th>982617</th>\n",
       "      <td>When I say this was an excellent book please b...</td>\n",
       "      <td>5</td>\n",
       "      <td>Wow!!</td>\n",
       "    </tr>\n",
       "    <tr>\n",
       "      <th>982618</th>\n",
       "      <td>This book was everything. I just hope Alexus w...</td>\n",
       "      <td>5</td>\n",
       "      <td>Great read.hands down #5star hit</td>\n",
       "    </tr>\n",
       "  </tbody>\n",
       "</table>\n",
       "<p>982596 rows × 3 columns</p>\n",
       "</div>"
      ],
      "text/plain": [
       "                                               reviewText  overall  \\\n",
       "0       I enjoy vintage books and movies so I enjoyed ...        5   \n",
       "1       This book is a reissue of an old one; the auth...        4   \n",
       "2       This was a fairly interesting read.  It had ol...        4   \n",
       "3       I'd never read any of the Amy Brewster mysteri...        5   \n",
       "4       If you like period pieces - clothing, lingo, y...        4   \n",
       "...                                                   ...      ...   \n",
       "982614  Yasss hunny! This is a great read. That Dre is...        5   \n",
       "982615  I ENJOYED THIS BOOK FROM BEGINNING TO END NOW ...        5   \n",
       "982616  Great book! Cherika was a fool. She let that m...        5   \n",
       "982617  When I say this was an excellent book please b...        5   \n",
       "982618  This book was everything. I just hope Alexus w...        5   \n",
       "\n",
       "                                 summary  \n",
       "0                     Nice vintage story  \n",
       "1                           Different...  \n",
       "2                                  Oldie  \n",
       "3                     I really liked it.  \n",
       "4                         Period Mystery  \n",
       "...                                  ...  \n",
       "982614               A Hot Read Indeed!!  \n",
       "982615                    VERY GOOD BOOK  \n",
       "982616                        Great Read  \n",
       "982617                             Wow!!  \n",
       "982618  Great read.hands down #5star hit  \n",
       "\n",
       "[982596 rows x 3 columns]"
      ]
     },
     "execution_count": 10,
     "metadata": {},
     "output_type": "execute_result"
    }
   ],
   "source": [
    "reviews.dropna(inplace = True)\n",
    "reviews"
   ]
  },
  {
   "cell_type": "markdown",
   "metadata": {},
   "source": [
    "## 3. Preparación de los datos\n",
    "### 3.1 Limpieza de los datos"
   ]
  },
  {
   "cell_type": "code",
   "execution_count": 11,
   "metadata": {},
   "outputs": [],
   "source": [
    "def remove_non_ascii(words):\n",
    "    \"\"\"Remove non-ASCII characters from list of tokenized words\"\"\"\n",
    "    new_words = []\n",
    "    for word in words:\n",
    "        new_word = unicodedata.normalize('NFKD', word).encode('ascii', 'ignore').decode('utf-8', 'ignore')\n",
    "        new_words.append(new_word)\n",
    "    return new_words\n",
    "\n",
    "def remove_punctuation(words):\n",
    "    \"\"\"Remove punctuation from list of tokenized words\"\"\"\n",
    "    new_words = []\n",
    "    for word in words:\n",
    "        new_word = re.sub(r'[^\\w\\s]', '', word)\n",
    "        if new_word != '':\n",
    "            new_words.append(new_word)\n",
    "    return new_words\n",
    "\n",
    "def replace_numbers(words):\n",
    "    \"\"\"Replace all interger occurrences in list of tokenized words with textual representation\"\"\"\n",
    "    p = inflect.engine()\n",
    "    new_words = []\n",
    "    for word in words:\n",
    "        if not word.isdigit():\n",
    "            new_words.append(word)\n",
    "        #if word.isdigit():\n",
    "            #new_word = p.number_to_words(word)\n",
    "            #new_words.append(new_word)\n",
    "        #else:\n",
    "            #new_words.append(word)\n",
    "    return new_words\n",
    "def to_lowercase(words):\n",
    "    \"\"\"Convert all characters to lowercase from list of tokenized words\"\"\"\n",
    "    new_words = []\n",
    "    for word in words:\n",
    "        new_words.append(word.lower())\n",
    "    return new_words\n",
    "\n",
    "def remove_stopwords(words):\n",
    "    \"\"\"Remove stop words from list of tokenized words\"\"\"\n",
    "    new_words = []\n",
    "    stop_words = set(stopwords.words('english'))\n",
    "    for word in words:\n",
    "        if word not in stop_words:\n",
    "            new_words.append(word)\n",
    "    return new_words\n",
    "\n",
    "def preprocessing(words):\n",
    "    words = to_lowercase(words)\n",
    "    words = replace_numbers(words)\n",
    "    words = remove_punctuation(words)\n",
    "    words = remove_non_ascii(words)\n",
    "    words = remove_stopwords(words)\n",
    "    return words"
   ]
  },
  {
   "cell_type": "markdown",
   "metadata": {},
   "source": [
    "### 3.2 Tokenización"
   ]
  },
  {
   "cell_type": "code",
   "execution_count": 12,
   "metadata": {},
   "outputs": [
    {
     "data": {
      "text/html": [
       "<div>\n",
       "<style scoped>\n",
       "    .dataframe tbody tr th:only-of-type {\n",
       "        vertical-align: middle;\n",
       "    }\n",
       "\n",
       "    .dataframe tbody tr th {\n",
       "        vertical-align: top;\n",
       "    }\n",
       "\n",
       "    .dataframe thead th {\n",
       "        text-align: right;\n",
       "    }\n",
       "</style>\n",
       "<table border=\"1\" class=\"dataframe\">\n",
       "  <thead>\n",
       "    <tr style=\"text-align: right;\">\n",
       "      <th></th>\n",
       "      <th>reviewText</th>\n",
       "      <th>overall</th>\n",
       "      <th>summary</th>\n",
       "    </tr>\n",
       "  </thead>\n",
       "  <tbody>\n",
       "    <tr>\n",
       "      <th>0</th>\n",
       "      <td>I enjoy vintage books and movies so I enjoyed ...</td>\n",
       "      <td>5</td>\n",
       "      <td>Nice vintage story</td>\n",
       "    </tr>\n",
       "    <tr>\n",
       "      <th>1</th>\n",
       "      <td>This book is a reissue of an old one; the auth...</td>\n",
       "      <td>4</td>\n",
       "      <td>Different...</td>\n",
       "    </tr>\n",
       "    <tr>\n",
       "      <th>2</th>\n",
       "      <td>This was a fairly interesting read.  It had ol...</td>\n",
       "      <td>4</td>\n",
       "      <td>Oldie</td>\n",
       "    </tr>\n",
       "    <tr>\n",
       "      <th>3</th>\n",
       "      <td>I would never read any of the Amy Brewster mys...</td>\n",
       "      <td>5</td>\n",
       "      <td>I really liked it.</td>\n",
       "    </tr>\n",
       "    <tr>\n",
       "      <th>4</th>\n",
       "      <td>If you like period pieces - clothing, lingo, y...</td>\n",
       "      <td>4</td>\n",
       "      <td>Period Mystery</td>\n",
       "    </tr>\n",
       "    <tr>\n",
       "      <th>...</th>\n",
       "      <td>...</td>\n",
       "      <td>...</td>\n",
       "      <td>...</td>\n",
       "    </tr>\n",
       "    <tr>\n",
       "      <th>982614</th>\n",
       "      <td>Yasss hunny! This is a great read. That Dre is...</td>\n",
       "      <td>5</td>\n",
       "      <td>A Hot Read Indeed!!</td>\n",
       "    </tr>\n",
       "    <tr>\n",
       "      <th>982615</th>\n",
       "      <td>I ENJOYED THIS BOOK FROM BEGINNING TO END NOW ...</td>\n",
       "      <td>5</td>\n",
       "      <td>VERY GOOD BOOK</td>\n",
       "    </tr>\n",
       "    <tr>\n",
       "      <th>982616</th>\n",
       "      <td>Great book! Cherika was a fool. She let that m...</td>\n",
       "      <td>5</td>\n",
       "      <td>Great Read</td>\n",
       "    </tr>\n",
       "    <tr>\n",
       "      <th>982617</th>\n",
       "      <td>When I say this was an excellent book please b...</td>\n",
       "      <td>5</td>\n",
       "      <td>Wow!!</td>\n",
       "    </tr>\n",
       "    <tr>\n",
       "      <th>982618</th>\n",
       "      <td>This book was everything. I just hope Alexus w...</td>\n",
       "      <td>5</td>\n",
       "      <td>Great read.hands down #5star hit</td>\n",
       "    </tr>\n",
       "  </tbody>\n",
       "</table>\n",
       "<p>982596 rows × 3 columns</p>\n",
       "</div>"
      ],
      "text/plain": [
       "                                               reviewText  overall  \\\n",
       "0       I enjoy vintage books and movies so I enjoyed ...        5   \n",
       "1       This book is a reissue of an old one; the auth...        4   \n",
       "2       This was a fairly interesting read.  It had ol...        4   \n",
       "3       I would never read any of the Amy Brewster mys...        5   \n",
       "4       If you like period pieces - clothing, lingo, y...        4   \n",
       "...                                                   ...      ...   \n",
       "982614  Yasss hunny! This is a great read. That Dre is...        5   \n",
       "982615  I ENJOYED THIS BOOK FROM BEGINNING TO END NOW ...        5   \n",
       "982616  Great book! Cherika was a fool. She let that m...        5   \n",
       "982617  When I say this was an excellent book please b...        5   \n",
       "982618  This book was everything. I just hope Alexus w...        5   \n",
       "\n",
       "                                 summary  \n",
       "0                     Nice vintage story  \n",
       "1                           Different...  \n",
       "2                                  Oldie  \n",
       "3                     I really liked it.  \n",
       "4                         Period Mystery  \n",
       "...                                  ...  \n",
       "982614               A Hot Read Indeed!!  \n",
       "982615                    VERY GOOD BOOK  \n",
       "982616                        Great Read  \n",
       "982617                             Wow!!  \n",
       "982618  Great read.hands down #5star hit  \n",
       "\n",
       "[982596 rows x 3 columns]"
      ]
     },
     "execution_count": 12,
     "metadata": {},
     "output_type": "execute_result"
    }
   ],
   "source": [
    "# Se preparan los reviews para la tokenización\n",
    "reviews['reviewText'] = reviews['reviewText'].apply(contractions.fix)\n",
    "reviews['summary'] = reviews['summary'].apply(contractions.fix)\n",
    "reviews"
   ]
  },
  {
   "cell_type": "markdown",
   "metadata": {},
   "source": [
    "Se decidió guardar la columna \"summary\" ya que podría aportar información a la representación de los reviews. Para verificar lo anterior, se va a crear una representación que solo tiene en cuenta la columna \"reviewText\" y otra que va tener las columnas \"reviewText\" y \"Summary\" concatenadas."
   ]
  },
  {
   "cell_type": "code",
   "execution_count": 13,
   "metadata": {},
   "outputs": [
    {
     "data": {
      "text/html": [
       "<div>\n",
       "<style scoped>\n",
       "    .dataframe tbody tr th:only-of-type {\n",
       "        vertical-align: middle;\n",
       "    }\n",
       "\n",
       "    .dataframe tbody tr th {\n",
       "        vertical-align: top;\n",
       "    }\n",
       "\n",
       "    .dataframe thead th {\n",
       "        text-align: right;\n",
       "    }\n",
       "</style>\n",
       "<table border=\"1\" class=\"dataframe\">\n",
       "  <thead>\n",
       "    <tr style=\"text-align: right;\">\n",
       "      <th></th>\n",
       "      <th>reviewText</th>\n",
       "      <th>overall</th>\n",
       "    </tr>\n",
       "  </thead>\n",
       "  <tbody>\n",
       "    <tr>\n",
       "      <th>0</th>\n",
       "      <td>I enjoy vintage books and movies so I enjoyed ...</td>\n",
       "      <td>5</td>\n",
       "    </tr>\n",
       "    <tr>\n",
       "      <th>1</th>\n",
       "      <td>This book is a reissue of an old one; the auth...</td>\n",
       "      <td>4</td>\n",
       "    </tr>\n",
       "    <tr>\n",
       "      <th>2</th>\n",
       "      <td>This was a fairly interesting read.  It had ol...</td>\n",
       "      <td>4</td>\n",
       "    </tr>\n",
       "    <tr>\n",
       "      <th>3</th>\n",
       "      <td>I would never read any of the Amy Brewster mys...</td>\n",
       "      <td>5</td>\n",
       "    </tr>\n",
       "    <tr>\n",
       "      <th>4</th>\n",
       "      <td>If you like period pieces - clothing, lingo, y...</td>\n",
       "      <td>4</td>\n",
       "    </tr>\n",
       "    <tr>\n",
       "      <th>...</th>\n",
       "      <td>...</td>\n",
       "      <td>...</td>\n",
       "    </tr>\n",
       "    <tr>\n",
       "      <th>982614</th>\n",
       "      <td>Yasss hunny! This is a great read. That Dre is...</td>\n",
       "      <td>5</td>\n",
       "    </tr>\n",
       "    <tr>\n",
       "      <th>982615</th>\n",
       "      <td>I ENJOYED THIS BOOK FROM BEGINNING TO END NOW ...</td>\n",
       "      <td>5</td>\n",
       "    </tr>\n",
       "    <tr>\n",
       "      <th>982616</th>\n",
       "      <td>Great book! Cherika was a fool. She let that m...</td>\n",
       "      <td>5</td>\n",
       "    </tr>\n",
       "    <tr>\n",
       "      <th>982617</th>\n",
       "      <td>When I say this was an excellent book please b...</td>\n",
       "      <td>5</td>\n",
       "    </tr>\n",
       "    <tr>\n",
       "      <th>982618</th>\n",
       "      <td>This book was everything. I just hope Alexus w...</td>\n",
       "      <td>5</td>\n",
       "    </tr>\n",
       "  </tbody>\n",
       "</table>\n",
       "<p>982596 rows × 2 columns</p>\n",
       "</div>"
      ],
      "text/plain": [
       "                                               reviewText  overall\n",
       "0       I enjoy vintage books and movies so I enjoyed ...        5\n",
       "1       This book is a reissue of an old one; the auth...        4\n",
       "2       This was a fairly interesting read.  It had ol...        4\n",
       "3       I would never read any of the Amy Brewster mys...        5\n",
       "4       If you like period pieces - clothing, lingo, y...        4\n",
       "...                                                   ...      ...\n",
       "982614  Yasss hunny! This is a great read. That Dre is...        5\n",
       "982615  I ENJOYED THIS BOOK FROM BEGINNING TO END NOW ...        5\n",
       "982616  Great book! Cherika was a fool. She let that m...        5\n",
       "982617  When I say this was an excellent book please b...        5\n",
       "982618  This book was everything. I just hope Alexus w...        5\n",
       "\n",
       "[982596 rows x 2 columns]"
      ]
     },
     "execution_count": 13,
     "metadata": {},
     "output_type": "execute_result"
    }
   ],
   "source": [
    "#reviews_summary = reviews.copy()\n",
    "#reviews_summary['reviewText'] = reviews_summary['reviewText'] + ' ' + reviews_summary['summary']\n",
    "#reviews_summary = reviews_summary[['reviewText', 'overall']]\n",
    "reviews = reviews[['reviewText', 'overall']]\n",
    "reviews"
   ]
  },
  {
   "cell_type": "code",
   "execution_count": 14,
   "metadata": {},
   "outputs": [
    {
     "data": {
      "text/html": [
       "<div>\n",
       "<style scoped>\n",
       "    .dataframe tbody tr th:only-of-type {\n",
       "        vertical-align: middle;\n",
       "    }\n",
       "\n",
       "    .dataframe tbody tr th {\n",
       "        vertical-align: top;\n",
       "    }\n",
       "\n",
       "    .dataframe thead th {\n",
       "        text-align: right;\n",
       "    }\n",
       "</style>\n",
       "<table border=\"1\" class=\"dataframe\">\n",
       "  <thead>\n",
       "    <tr style=\"text-align: right;\">\n",
       "      <th></th>\n",
       "      <th>reviewText</th>\n",
       "      <th>overall</th>\n",
       "      <th>words</th>\n",
       "    </tr>\n",
       "  </thead>\n",
       "  <tbody>\n",
       "    <tr>\n",
       "      <th>0</th>\n",
       "      <td>I enjoy vintage books and movies so I enjoyed ...</td>\n",
       "      <td>5</td>\n",
       "      <td>[enjoy, vintage, books, movies, enjoyed, readi...</td>\n",
       "    </tr>\n",
       "    <tr>\n",
       "      <th>1</th>\n",
       "      <td>This book is a reissue of an old one; the auth...</td>\n",
       "      <td>4</td>\n",
       "      <td>[book, reissue, old, one, author, born, 1910, ...</td>\n",
       "    </tr>\n",
       "    <tr>\n",
       "      <th>2</th>\n",
       "      <td>This was a fairly interesting read.  It had ol...</td>\n",
       "      <td>4</td>\n",
       "      <td>[fairly, interesting, read, old, style, termin...</td>\n",
       "    </tr>\n",
       "    <tr>\n",
       "      <th>3</th>\n",
       "      <td>I would never read any of the Amy Brewster mys...</td>\n",
       "      <td>5</td>\n",
       "      <td>[would, never, read, amy, brewster, mysteries,...</td>\n",
       "    </tr>\n",
       "    <tr>\n",
       "      <th>4</th>\n",
       "      <td>If you like period pieces - clothing, lingo, y...</td>\n",
       "      <td>4</td>\n",
       "      <td>[like, period, pieces, clothing, lingo, enjoy,...</td>\n",
       "    </tr>\n",
       "  </tbody>\n",
       "</table>\n",
       "</div>"
      ],
      "text/plain": [
       "                                          reviewText  overall  \\\n",
       "0  I enjoy vintage books and movies so I enjoyed ...        5   \n",
       "1  This book is a reissue of an old one; the auth...        4   \n",
       "2  This was a fairly interesting read.  It had ol...        4   \n",
       "3  I would never read any of the Amy Brewster mys...        5   \n",
       "4  If you like period pieces - clothing, lingo, y...        4   \n",
       "\n",
       "                                               words  \n",
       "0  [enjoy, vintage, books, movies, enjoyed, readi...  \n",
       "1  [book, reissue, old, one, author, born, 1910, ...  \n",
       "2  [fairly, interesting, read, old, style, termin...  \n",
       "3  [would, never, read, amy, brewster, mysteries,...  \n",
       "4  [like, period, pieces, clothing, lingo, enjoy,...  "
      ]
     },
     "execution_count": 14,
     "metadata": {},
     "output_type": "execute_result"
    }
   ],
   "source": [
    "#reviews_summary['words'] = reviews_summary['reviewText'].apply(word_tokenize).apply(preprocessing)\n",
    "reviews['words'] = reviews['reviewText'].apply(word_tokenize).apply(preprocessing) #Aplica la eliminación del ruido\n",
    "reviews.head()"
   ]
  },
  {
   "cell_type": "code",
   "execution_count": 15,
   "metadata": {},
   "outputs": [
    {
     "data": {
      "text/html": [
       "<div>\n",
       "<style scoped>\n",
       "    .dataframe tbody tr th:only-of-type {\n",
       "        vertical-align: middle;\n",
       "    }\n",
       "\n",
       "    .dataframe tbody tr th {\n",
       "        vertical-align: top;\n",
       "    }\n",
       "\n",
       "    .dataframe thead th {\n",
       "        text-align: right;\n",
       "    }\n",
       "</style>\n",
       "<table border=\"1\" class=\"dataframe\">\n",
       "  <thead>\n",
       "    <tr style=\"text-align: right;\">\n",
       "      <th></th>\n",
       "      <th>reviewText</th>\n",
       "      <th>overall</th>\n",
       "      <th>words</th>\n",
       "    </tr>\n",
       "  </thead>\n",
       "  <tbody>\n",
       "    <tr>\n",
       "      <th>0</th>\n",
       "      <td>I enjoy vintage books and movies so I enjoyed ...</td>\n",
       "      <td>5</td>\n",
       "      <td>[enjoy, vintage, books, movies, enjoyed, readi...</td>\n",
       "    </tr>\n",
       "    <tr>\n",
       "      <th>1</th>\n",
       "      <td>This book is a reissue of an old one; the auth...</td>\n",
       "      <td>4</td>\n",
       "      <td>[book, reissue, old, one, author, born, 1910, ...</td>\n",
       "    </tr>\n",
       "    <tr>\n",
       "      <th>2</th>\n",
       "      <td>This was a fairly interesting read.  It had ol...</td>\n",
       "      <td>4</td>\n",
       "      <td>[fairly, interesting, read, old, style, termin...</td>\n",
       "    </tr>\n",
       "    <tr>\n",
       "      <th>3</th>\n",
       "      <td>I would never read any of the Amy Brewster mys...</td>\n",
       "      <td>5</td>\n",
       "      <td>[would, never, read, amy, brewster, mysteries,...</td>\n",
       "    </tr>\n",
       "    <tr>\n",
       "      <th>4</th>\n",
       "      <td>If you like period pieces - clothing, lingo, y...</td>\n",
       "      <td>4</td>\n",
       "      <td>[like, period, pieces, clothing, lingo, enjoy,...</td>\n",
       "    </tr>\n",
       "  </tbody>\n",
       "</table>\n",
       "</div>"
      ],
      "text/plain": [
       "                                          reviewText  overall  \\\n",
       "0  I enjoy vintage books and movies so I enjoyed ...        5   \n",
       "1  This book is a reissue of an old one; the auth...        4   \n",
       "2  This was a fairly interesting read.  It had ol...        4   \n",
       "3  I would never read any of the Amy Brewster mys...        5   \n",
       "4  If you like period pieces - clothing, lingo, y...        4   \n",
       "\n",
       "                                               words  \n",
       "0  [enjoy, vintage, books, movies, enjoyed, readi...  \n",
       "1  [book, reissue, old, one, author, born, 1910, ...  \n",
       "2  [fairly, interesting, read, old, style, termin...  \n",
       "3  [would, never, read, amy, brewster, mysteries,...  \n",
       "4  [like, period, pieces, clothing, lingo, enjoy,...  "
      ]
     },
     "execution_count": 15,
     "metadata": {},
     "output_type": "execute_result"
    }
   ],
   "source": [
    "reviews.head()"
   ]
  },
  {
   "cell_type": "markdown",
   "metadata": {},
   "source": [
    "### 3.3 Normalización"
   ]
  },
  {
   "cell_type": "code",
   "execution_count": 16,
   "metadata": {},
   "outputs": [],
   "source": [
    "def stem_words(words):\n",
    "    \"\"\"Stem words in list of tokenized words\"\"\"\n",
    "    lancaster=LancasterStemmer()\n",
    "    new_words =[]\n",
    "    for word in words:\n",
    "        new_words.append(lancaster.stem(word))\n",
    "    return new_words    \n",
    "\n",
    "def lemmatize_verbs(words):\n",
    "    \"\"\"Lemmatize verbs in list of tokenized words\"\"\"\n",
    "    lemmatizer = WordNetLemmatizer()\n",
    "    new_words =[]\n",
    "    for word in words:\n",
    "        new_words.append(lemmatizer.lemmatize(word))\n",
    "    return new_words  \n",
    "\n",
    "def delete_duplicates(words):\n",
    "    rta = list(set(words))\n",
    "    return rta\n",
    "\n",
    "def stem_and_lemmatize(words):\n",
    "    stems = stem_words(words)\n",
    "    lemmas = lemmatize_verbs(words)\n",
    "    total = stems + lemmas\n",
    "    return delete_duplicates(total)"
   ]
  },
  {
   "cell_type": "code",
   "execution_count": 17,
   "metadata": {},
   "outputs": [
    {
     "data": {
      "text/html": [
       "<div>\n",
       "<style scoped>\n",
       "    .dataframe tbody tr th:only-of-type {\n",
       "        vertical-align: middle;\n",
       "    }\n",
       "\n",
       "    .dataframe tbody tr th {\n",
       "        vertical-align: top;\n",
       "    }\n",
       "\n",
       "    .dataframe thead th {\n",
       "        text-align: right;\n",
       "    }\n",
       "</style>\n",
       "<table border=\"1\" class=\"dataframe\">\n",
       "  <thead>\n",
       "    <tr style=\"text-align: right;\">\n",
       "      <th></th>\n",
       "      <th>reviewText</th>\n",
       "      <th>overall</th>\n",
       "      <th>words</th>\n",
       "    </tr>\n",
       "  </thead>\n",
       "  <tbody>\n",
       "    <tr>\n",
       "      <th>0</th>\n",
       "      <td>I enjoy vintage books and movies so I enjoyed ...</td>\n",
       "      <td>5</td>\n",
       "      <td>[read, selfdefense, body, selfdefens, without,...</td>\n",
       "    </tr>\n",
       "    <tr>\n",
       "      <th>1</th>\n",
       "      <td>This book is a reissue of an old one; the auth...</td>\n",
       "      <td>4</td>\n",
       "      <td>[langu, littl, well, interesting, look, us, he...</td>\n",
       "    </tr>\n",
       "    <tr>\n",
       "      <th>2</th>\n",
       "      <td>This was a fairly interesting read.  It had ol...</td>\n",
       "      <td>4</td>\n",
       "      <td>[read, langu, fairly, crud, interesting, decid...</td>\n",
       "    </tr>\n",
       "    <tr>\n",
       "      <th>3</th>\n",
       "      <td>I would never read any of the Amy Brewster mys...</td>\n",
       "      <td>5</td>\n",
       "      <td>[read, one, on, real, would, brewst, mystery, ...</td>\n",
       "    </tr>\n",
       "    <tr>\n",
       "      <th>4</th>\n",
       "      <td>If you like period pieces - clothing, lingo, y...</td>\n",
       "      <td>4</td>\n",
       "      <td>[lik, piece, way, cloth, auth, guessing, least...</td>\n",
       "    </tr>\n",
       "  </tbody>\n",
       "</table>\n",
       "</div>"
      ],
      "text/plain": [
       "                                          reviewText  overall  \\\n",
       "0  I enjoy vintage books and movies so I enjoyed ...        5   \n",
       "1  This book is a reissue of an old one; the auth...        4   \n",
       "2  This was a fairly interesting read.  It had ol...        4   \n",
       "3  I would never read any of the Amy Brewster mys...        5   \n",
       "4  If you like period pieces - clothing, lingo, y...        4   \n",
       "\n",
       "                                               words  \n",
       "0  [read, selfdefense, body, selfdefens, without,...  \n",
       "1  [langu, littl, well, interesting, look, us, he...  \n",
       "2  [read, langu, fairly, crud, interesting, decid...  \n",
       "3  [read, one, on, real, would, brewst, mystery, ...  \n",
       "4  [lik, piece, way, cloth, auth, guessing, least...  "
      ]
     },
     "execution_count": 17,
     "metadata": {},
     "output_type": "execute_result"
    }
   ],
   "source": [
    "reviews['words'] = reviews['words'].apply(stem_and_lemmatize) #Aplica lematización y Eliminación de Prefijos y Sufijos.\n",
    "#reviews_summary['words'] = reviews_summary['words'].apply(stem_and_lemmatize) #Aplica lematización y Eliminación de Prefijos y Sufijos.\n",
    "reviews.head()"
   ]
  },
  {
   "cell_type": "code",
   "execution_count": 18,
   "metadata": {},
   "outputs": [
    {
     "data": {
      "text/html": [
       "<div>\n",
       "<style scoped>\n",
       "    .dataframe tbody tr th:only-of-type {\n",
       "        vertical-align: middle;\n",
       "    }\n",
       "\n",
       "    .dataframe tbody tr th {\n",
       "        vertical-align: top;\n",
       "    }\n",
       "\n",
       "    .dataframe thead th {\n",
       "        text-align: right;\n",
       "    }\n",
       "</style>\n",
       "<table border=\"1\" class=\"dataframe\">\n",
       "  <thead>\n",
       "    <tr style=\"text-align: right;\">\n",
       "      <th></th>\n",
       "      <th>reviewText</th>\n",
       "      <th>overall</th>\n",
       "      <th>words</th>\n",
       "    </tr>\n",
       "  </thead>\n",
       "  <tbody>\n",
       "    <tr>\n",
       "      <th>915414</th>\n",
       "      <td>I am loving this series. I fell in live with J...</td>\n",
       "      <td>5</td>\n",
       "      <td>[cade, til, sawyer, sery, liv, lov, ev, fel, e...</td>\n",
       "    </tr>\n",
       "    <tr>\n",
       "      <th>718810</th>\n",
       "      <td>Just another fad, crash diet. It may work in t...</td>\n",
       "      <td>2</td>\n",
       "      <td>[healthy, sustainable, way, another, short, fa...</td>\n",
       "    </tr>\n",
       "    <tr>\n",
       "      <th>29174</th>\n",
       "      <td>It was a good story well written.  it is main ...</td>\n",
       "      <td>4</td>\n",
       "      <td>[well, lif, written, result, good, life, mak, ...</td>\n",
       "    </tr>\n",
       "  </tbody>\n",
       "</table>\n",
       "</div>"
      ],
      "text/plain": [
       "                                               reviewText  overall  \\\n",
       "915414  I am loving this series. I fell in live with J...        5   \n",
       "718810  Just another fad, crash diet. It may work in t...        2   \n",
       "29174   It was a good story well written.  it is main ...        4   \n",
       "\n",
       "                                                    words  \n",
       "915414  [cade, til, sawyer, sery, liv, lov, ev, fel, e...  \n",
       "718810  [healthy, sustainable, way, another, short, fa...  \n",
       "29174   [well, lif, written, result, good, life, mak, ...  "
      ]
     },
     "execution_count": 18,
     "metadata": {},
     "output_type": "execute_result"
    }
   ],
   "source": [
    "reviews.sample(3)"
   ]
  },
  {
   "cell_type": "markdown",
   "metadata": {},
   "source": [
    "### Selección y preparación de los datos"
   ]
  },
  {
   "cell_type": "code",
   "execution_count": 20,
   "metadata": {},
   "outputs": [
    {
     "data": {
      "text/html": [
       "<div>\n",
       "<style scoped>\n",
       "    .dataframe tbody tr th:only-of-type {\n",
       "        vertical-align: middle;\n",
       "    }\n",
       "\n",
       "    .dataframe tbody tr th {\n",
       "        vertical-align: top;\n",
       "    }\n",
       "\n",
       "    .dataframe thead th {\n",
       "        text-align: right;\n",
       "    }\n",
       "</style>\n",
       "<table border=\"1\" class=\"dataframe\">\n",
       "  <thead>\n",
       "    <tr style=\"text-align: right;\">\n",
       "      <th></th>\n",
       "      <th>reviewText</th>\n",
       "      <th>overall</th>\n",
       "      <th>words</th>\n",
       "      <th>binary_feeling_score</th>\n",
       "    </tr>\n",
       "  </thead>\n",
       "  <tbody>\n",
       "    <tr>\n",
       "      <th>0</th>\n",
       "      <td>I enjoy vintage books and movies so I enjoyed ...</td>\n",
       "      <td>5</td>\n",
       "      <td>[read, selfdefense, body, selfdefens, without,...</td>\n",
       "      <td>1</td>\n",
       "    </tr>\n",
       "    <tr>\n",
       "      <th>1</th>\n",
       "      <td>This book is a reissue of an old one; the auth...</td>\n",
       "      <td>4</td>\n",
       "      <td>[langu, littl, well, interesting, look, us, he...</td>\n",
       "      <td>1</td>\n",
       "    </tr>\n",
       "    <tr>\n",
       "      <th>2</th>\n",
       "      <td>This was a fairly interesting read.  It had ol...</td>\n",
       "      <td>4</td>\n",
       "      <td>[read, langu, fairly, crud, interesting, decid...</td>\n",
       "      <td>1</td>\n",
       "    </tr>\n",
       "    <tr>\n",
       "      <th>3</th>\n",
       "      <td>I would never read any of the Amy Brewster mys...</td>\n",
       "      <td>5</td>\n",
       "      <td>[read, one, on, real, would, brewst, mystery, ...</td>\n",
       "      <td>1</td>\n",
       "    </tr>\n",
       "    <tr>\n",
       "      <th>4</th>\n",
       "      <td>If you like period pieces - clothing, lingo, y...</td>\n",
       "      <td>4</td>\n",
       "      <td>[lik, piece, way, cloth, auth, guessing, least...</td>\n",
       "      <td>1</td>\n",
       "    </tr>\n",
       "  </tbody>\n",
       "</table>\n",
       "</div>"
      ],
      "text/plain": [
       "                                          reviewText  overall  \\\n",
       "0  I enjoy vintage books and movies so I enjoyed ...        5   \n",
       "1  This book is a reissue of an old one; the auth...        4   \n",
       "2  This was a fairly interesting read.  It had ol...        4   \n",
       "3  I would never read any of the Amy Brewster mys...        5   \n",
       "4  If you like period pieces - clothing, lingo, y...        4   \n",
       "\n",
       "                                               words  binary_feeling_score  \n",
       "0  [read, selfdefense, body, selfdefens, without,...                     1  \n",
       "1  [langu, littl, well, interesting, look, us, he...                     1  \n",
       "2  [read, langu, fairly, crud, interesting, decid...                     1  \n",
       "3  [read, one, on, real, would, brewst, mystery, ...                     1  \n",
       "4  [lik, piece, way, cloth, auth, guessing, least...                     1  "
      ]
     },
     "execution_count": 20,
     "metadata": {},
     "output_type": "execute_result"
    }
   ],
   "source": [
    "# Se toma como un sentimiento positivo 4 y 5. Para los valores de 3,2 y 1 se entiende que el sentimiento es negativo. Para el sentimiento\n",
    "# positivo se toma el label de 1 y para el sentimiento negativo se toma la entrada de 0.\n",
    "def sentimiento_binario(score):\n",
    "    if(score <=3):\n",
    "        return 0\n",
    "    else:\n",
    "        return 1\n",
    "\n",
    "reviews[\"binary_feeling_score\"] = reviews.overall.apply(sentimiento_binario)\n",
    "#reviews_summary[\"binary_feeling_score\"] = reviews_summary.overall.apply(sentimiento_binario)\n",
    "reviews.head(5)"
   ]
  },
  {
   "cell_type": "code",
   "execution_count": 22,
   "metadata": {},
   "outputs": [
    {
     "data": {
      "image/png": "[encoded data removed]",
      "text/plain": [
       "<Figure size 800x550 with 1 Axes>"
      ]
     },
     "metadata": {},
     "output_type": "display_data"
    }
   ],
   "source": [
    "reviews['binary_feeling_score'].value_counts().plot(kind = 'bar')\n",
    "plt.title('Distribución de los puntajes de los productos')\n",
    "plt.xlabel('binary_feeling_score')\n",
    "plt.xticks(rotation = 0)\n",
    "plt.ylabel('# Registros')\n",
    "plt.show()"
   ]
  },
  {
   "cell_type": "markdown",
   "metadata": {},
   "source": [
    "Finalmente, eliminamos la columna overall dado que fue mappeada a binary_feeling_score y no debería usarse como variable predictora. Queremos clasificar solo a base de palabras."
   ]
  },
  {
   "cell_type": "code",
   "execution_count": 23,
   "metadata": {},
   "outputs": [],
   "source": [
    "reviews = reviews.drop([\"overall\", \"reviewText\"], axis=1)"
   ]
  },
  {
   "cell_type": "code",
   "execution_count": 24,
   "metadata": {},
   "outputs": [
    {
     "name": "stdout",
     "output_type": "stream",
     "text": [
      "<class 'pandas.core.frame.DataFrame'>\n",
      "Int64Index: 982596 entries, 0 to 982618\n",
      "Data columns (total 2 columns):\n",
      " #   Column                Non-Null Count   Dtype \n",
      "---  ------                --------------   ----- \n",
      " 0   words                 982596 non-null  object\n",
      " 1   binary_feeling_score  982596 non-null  int64 \n",
      "dtypes: int64(1), object(1)\n",
      "memory usage: 22.5+ MB\n"
     ]
    }
   ],
   "source": [
    "reviews.info(verbose=True)"
   ]
  },
  {
   "cell_type": "markdown",
   "metadata": {},
   "source": [
    "#### Como cada texto ahora es un arreglo de palabras (columna words), es necesario volver a unirlos para poder aplicar el countVectorizer sobre el corpus de cada texto después del procesamiento (limpieza). "
   ]
  },
  {
   "cell_type": "code",
   "execution_count": 25,
   "metadata": {},
   "outputs": [
    {
     "data": {
      "text/html": [
       "<div>\n",
       "<style scoped>\n",
       "    .dataframe tbody tr th:only-of-type {\n",
       "        vertical-align: middle;\n",
       "    }\n",
       "\n",
       "    .dataframe tbody tr th {\n",
       "        vertical-align: top;\n",
       "    }\n",
       "\n",
       "    .dataframe thead th {\n",
       "        text-align: right;\n",
       "    }\n",
       "</style>\n",
       "<table border=\"1\" class=\"dataframe\">\n",
       "  <thead>\n",
       "    <tr style=\"text-align: right;\">\n",
       "      <th></th>\n",
       "      <th>binary_feeling_score</th>\n",
       "      <th>final_text</th>\n",
       "    </tr>\n",
       "  </thead>\n",
       "  <tbody>\n",
       "    <tr>\n",
       "      <th>0</th>\n",
       "      <td>1</td>\n",
       "      <td>read selfdefense body selfdefens without someo...</td>\n",
       "    </tr>\n",
       "    <tr>\n",
       "      <th>1</th>\n",
       "      <td>1</td>\n",
       "      <td>langu littl well interesting look us heard wol...</td>\n",
       "    </tr>\n",
       "    <tr>\n",
       "      <th>2</th>\n",
       "      <td>1</td>\n",
       "      <td>read langu fairly crud interesting decide fre ...</td>\n",
       "    </tr>\n",
       "    <tr>\n",
       "      <th>3</th>\n",
       "      <td>1</td>\n",
       "      <td>read one on real would brewst mystery amy brew...</td>\n",
       "    </tr>\n",
       "    <tr>\n",
       "      <th>4</th>\n",
       "      <td>1</td>\n",
       "      <td>lik piece way cloth auth guessing least myster...</td>\n",
       "    </tr>\n",
       "    <tr>\n",
       "      <th>...</th>\n",
       "      <td>...</td>\n",
       "      <td>...</td>\n",
       "    </tr>\n",
       "    <tr>\n",
       "      <th>982614</th>\n",
       "      <td>1</td>\n",
       "      <td>read want someth shenanig axiously say ms anym...</td>\n",
       "    </tr>\n",
       "    <tr>\n",
       "      <th>982615</th>\n",
       "      <td>1</td>\n",
       "      <td>viol r violated posit cherik get straight lex ...</td>\n",
       "    </tr>\n",
       "    <tr>\n",
       "      <th>982616</th>\n",
       "      <td>1</td>\n",
       "      <td>way hop long fool many cherik away cheating ge...</td>\n",
       "    </tr>\n",
       "    <tr>\n",
       "      <th>982617</th>\n",
       "      <td>1</td>\n",
       "      <td>pag pleas went believe unbelievable page turne...</td>\n",
       "    </tr>\n",
       "    <tr>\n",
       "      <th>982618</th>\n",
       "      <td>1</td>\n",
       "      <td>uunderstand hop well name us situation situ wo...</td>\n",
       "    </tr>\n",
       "  </tbody>\n",
       "</table>\n",
       "<p>982596 rows × 2 columns</p>\n",
       "</div>"
      ],
      "text/plain": [
       "        binary_feeling_score  \\\n",
       "0                          1   \n",
       "1                          1   \n",
       "2                          1   \n",
       "3                          1   \n",
       "4                          1   \n",
       "...                      ...   \n",
       "982614                     1   \n",
       "982615                     1   \n",
       "982616                     1   \n",
       "982617                     1   \n",
       "982618                     1   \n",
       "\n",
       "                                               final_text  \n",
       "0       read selfdefense body selfdefens without someo...  \n",
       "1       langu littl well interesting look us heard wol...  \n",
       "2       read langu fairly crud interesting decide fre ...  \n",
       "3       read one on real would brewst mystery amy brew...  \n",
       "4       lik piece way cloth auth guessing least myster...  \n",
       "...                                                   ...  \n",
       "982614  read want someth shenanig axiously say ms anym...  \n",
       "982615  viol r violated posit cherik get straight lex ...  \n",
       "982616  way hop long fool many cherik away cheating ge...  \n",
       "982617  pag pleas went believe unbelievable page turne...  \n",
       "982618  uunderstand hop well name us situation situ wo...  \n",
       "\n",
       "[982596 rows x 2 columns]"
      ]
     },
     "execution_count": 25,
     "metadata": {},
     "output_type": "execute_result"
    }
   ],
   "source": [
    "final_reviews = reviews[\"words\"].copy().apply(lambda arr: \" \".join(arr))\n",
    "reviews[\"words\"] = final_reviews.copy()\n",
    "reviews[\"final_text\"] = reviews[\"words\"].copy()\n",
    "reviews.drop(axis=1, columns=[\"words\"])"
   ]
  },
  {
   "cell_type": "markdown",
   "metadata": {},
   "source": [
    "Se observó previamente que existe un gran desbalance entre la clase mayoritaria de sentimientos positivos y la clase minoritaria de sentimientos negativos. Dicho desbalance podría tener un impacto considerable en el modelo, por lo que se decidió aplicar estrategías para el tratamiento de los datos desbalanceados. Se decidió utilizar la técnica de Under-sampling para disminuir la brecha entre las clases."
   ]
  },
  {
   "cell_type": "code",
   "execution_count": 26,
   "metadata": {},
   "outputs": [
    {
     "name": "stdout",
     "output_type": "stream",
     "text": [
      "Requirement already satisfied: imbalanced-learn in /Users/jorgea/opt/anaconda3/lib/python3.8/site-packages (0.8.0)\n",
      "Requirement already satisfied: numpy>=1.13.3 in /Users/jorgea/opt/anaconda3/lib/python3.8/site-packages (from imbalanced-learn) (1.21.2)\n",
      "Requirement already satisfied: joblib>=0.11 in /Users/jorgea/opt/anaconda3/lib/python3.8/site-packages (from imbalanced-learn) (1.0.1)\n",
      "Requirement already satisfied: scikit-learn>=0.24 in /Users/jorgea/opt/anaconda3/lib/python3.8/site-packages (from imbalanced-learn) (0.24.2)\n",
      "Requirement already satisfied: scipy>=0.19.1 in /Users/jorgea/opt/anaconda3/lib/python3.8/site-packages (from imbalanced-learn) (1.6.2)\n",
      "Requirement already satisfied: threadpoolctl>=2.0.0 in /Users/jorgea/opt/anaconda3/lib/python3.8/site-packages (from scikit-learn>=0.24->imbalanced-learn) (2.2.0)\n"
     ]
    }
   ],
   "source": [
    "!pip install imbalanced-learn\n",
    "from imblearn.under_sampling import RandomUnderSampler\n",
    "undersample = RandomUnderSampler(sampling_strategy=0.5, random_state=42)\n",
    "X, Y= undersample.fit_resample(reviews, reviews.binary_feeling_score)"
   ]
  },
  {
   "cell_type": "code",
   "execution_count": 27,
   "metadata": {},
   "outputs": [],
   "source": [
    "x_train,x_test,y_train,y_test = train_test_split(X.final_text,Y, random_state = 0, test_size=0.2)"
   ]
  },
  {
   "cell_type": "code",
   "execution_count": 28,
   "metadata": {},
   "outputs": [],
   "source": [
    "count_vectorizer = CountVectorizer(min_df=0,max_df=1,ngram_range=(1,1))\n",
    "X_count_train = count_vectorizer.fit_transform(x_train)\n",
    "tfid_vectorizer = TfidfVectorizer()\n",
    "X_tfid_train = tfid_vectorizer.fit_transform(x_train)\n",
    "\n",
    "X_count_test = count_vectorizer.transform(x_test)\n",
    "X_tfid_test =  tfid_vectorizer.transform(x_test)\n",
    "#x_train,x_test,y_train,y_test = train_test_split(reviews.reviewText,reviews.binary_feeling_score , random_state = 0)"
   ]
  },
  {
   "cell_type": "code",
   "execution_count": 83,
   "metadata": {},
   "outputs": [
    {
     "name": "stdout",
     "output_type": "stream",
     "text": [
      "Bag of words count train (368018, 343738)\n",
      "Bag of words count test (92005, 343738)\n",
      "Bag of words tfid train (368018, 491257)\n",
      "Bag of words tfid test (92005, 491257)\n"
     ]
    }
   ],
   "source": [
    "print('Bag of words count train',X_count_train.shape)\n",
    "print('Bag of words count test',X_count_test.shape)\n",
    "print('Bag of words tfid train',X_tfid_train.shape)\n",
    "print('Bag of words tfid test',X_tfid_test.shape)"
   ]
  },
  {
   "cell_type": "markdown",
   "metadata": {},
   "source": [
    "## 4. Construcción de los modelos"
   ]
  },
  {
   "cell_type": "code",
   "execution_count": 30,
   "metadata": {},
   "outputs": [],
   "source": [
    "from sklearn.naive_bayes import MultinomialNB\n",
    "from sklearn.linear_model import LogisticRegression\n",
    "from sklearn.ensemble import RandomForestClassifier"
   ]
  },
  {
   "cell_type": "markdown",
   "metadata": {},
   "source": [
    "### 4.1 MultinomialNB - Elaboró: Cristhian Forigua"
   ]
  },
  {
   "cell_type": "code",
   "execution_count": 84,
   "metadata": {},
   "outputs": [
    {
     "data": {
      "text/plain": [
       "{'alpha': 2.0, 'fit_prior': True}"
      ]
     },
     "execution_count": 84,
     "metadata": {},
     "output_type": "execute_result"
    }
   ],
   "source": [
    "from sklearn.model_selection import KFold \n",
    "particiones = KFold(n_splits=5, shuffle=True, random_state = 0)\n",
    "param_grid = {'alpha':[0.5, 1.0, 2.0],'fit_prior':[True, False]}\n",
    "NB = MultinomialNB()\n",
    "mejor_NB_count = GridSearchCV(NB, param_grid, cv=particiones)\n",
    "mejor_NB_count.fit(X_count_train, y_train)\n",
    "mejor_NB_count.best_params_"
   ]
  },
  {
   "cell_type": "code",
   "execution_count": 46,
   "metadata": {},
   "outputs": [
    {
     "data": {
      "text/plain": [
       "{'alpha': 0.5, 'fit_prior': False}"
      ]
     },
     "execution_count": 46,
     "metadata": {},
     "output_type": "execute_result"
    }
   ],
   "source": [
    "NB = MultinomialNB()\n",
    "mejor_NB_tfid = GridSearchCV(NB, param_grid, cv=particiones)\n",
    "mejor_NB_tfid.fit(X_tfid_train, y_train)\n",
    "mejor_NB_tfid.best_params_"
   ]
  },
  {
   "cell_type": "code",
   "execution_count": 47,
   "metadata": {},
   "outputs": [
    {
     "name": "stdout",
     "output_type": "stream",
     "text": [
      "Exactitud sobre entrenamiento: 0.73\n",
      "Exactitud sobre test: 0.66\n"
     ]
    }
   ],
   "source": [
    "mejor_NB_count = mejor_NB_count.best_estimator_\n",
    "y_pred_train = mejor_NB_count.predict(X_count_train)\n",
    "y_pred_test = mejor_NB_count.predict(X_count_test)\n",
    "print('Exactitud sobre entrenamiento: %.2f' % accuracy_score(y_train, y_pred_train))\n",
    "print('Exactitud sobre test: %.2f' % accuracy_score(y_test, y_pred_test))"
   ]
  },
  {
   "cell_type": "code",
   "execution_count": 48,
   "metadata": {},
   "outputs": [
    {
     "name": "stdout",
     "output_type": "stream",
     "text": [
      "Exactitud sobre entrenamiento: 0.86\n",
      "Exactitud sobre test: 0.83\n"
     ]
    }
   ],
   "source": [
    "mejor_NB_tfid = mejor_NB_tfid.best_estimator_\n",
    "y_pred_train = mejor_NB_tfid.predict(X_tfid_train)\n",
    "y_pred_test = mejor_NB_tfid.predict(X_tfid_test)\n",
    "print('Exactitud sobre entrenamiento: %.2f' % accuracy_score(y_train, y_pred_train))\n",
    "print('Exactitud sobre test: %.2f' % accuracy_score(y_test, y_pred_test))"
   ]
  },
  {
   "cell_type": "code",
   "execution_count": 49,
   "metadata": {},
   "outputs": [
    {
     "data": {
      "image/png": "[encoded data removed]",
      "text/plain": [
       "<Figure size 800x550 with 2 Axes>"
      ]
     },
     "metadata": {},
     "output_type": "display_data"
    }
   ],
   "source": [
    "plot_confusion_matrix(mejor_NB_tfid, X_tfid_test, y_test)  \n",
    "plt.show()  "
   ]
  },
  {
   "cell_type": "code",
   "execution_count": 50,
   "metadata": {},
   "outputs": [
    {
     "name": "stdout",
     "output_type": "stream",
     "text": [
      "              precision    recall  f1-score   support\n",
      "\n",
      "           0       0.81      0.64      0.71     30771\n",
      "           1       0.84      0.92      0.88     61234\n",
      "\n",
      "    accuracy                           0.83     92005\n",
      "   macro avg       0.82      0.78      0.80     92005\n",
      "weighted avg       0.83      0.83      0.82     92005\n",
      "\n"
     ]
    }
   ],
   "source": [
    "print(classification_report(y_test, y_pred_test))"
   ]
  },
  {
   "cell_type": "markdown",
   "metadata": {},
   "source": [
    "### 4.2 LogisticRegression"
   ]
  },
  {
   "cell_type": "code",
   "execution_count": null,
   "metadata": {},
   "outputs": [],
   "source": []
  },
  {
   "cell_type": "code",
   "execution_count": null,
   "metadata": {},
   "outputs": [],
   "source": []
  },
  {
   "cell_type": "code",
   "execution_count": null,
   "metadata": {},
   "outputs": [],
   "source": []
  },
  {
   "cell_type": "code",
   "execution_count": null,
   "metadata": {},
   "outputs": [],
   "source": []
  },
  {
   "cell_type": "code",
   "execution_count": null,
   "metadata": {},
   "outputs": [],
   "source": []
  },
  {
   "cell_type": "code",
   "execution_count": null,
   "metadata": {},
   "outputs": [],
   "source": []
  },
  {
   "cell_type": "markdown",
   "metadata": {},
   "source": [
    "### 4.3 RandomForestClassifier - Elaboró: Jorge Esguerra"
   ]
  },
  {
   "cell_type": "code",
   "execution_count": 85,
   "metadata": {},
   "outputs": [],
   "source": [
    "rfc = RandomForestClassifier(random_state = 0, n_jobs=-1)"
   ]
  },
  {
   "cell_type": "code",
   "execution_count": 90,
   "metadata": {},
   "outputs": [
    {
     "name": "stderr",
     "output_type": "stream",
     "text": [
      "/Users/jorgea/opt/anaconda3/lib/python3.8/site-packages/joblib/externals/loky/process_executor.py:688: UserWarning: A worker stopped while some jobs were given to the executor. This can be caused by a too short worker timeout or by a memory leak.\n",
      "  warnings.warn(\n",
      "/Users/jorgea/opt/anaconda3/lib/python3.8/site-packages/joblib/externals/loky/process_executor.py:688: UserWarning: A worker stopped while some jobs were given to the executor. This can be caused by a too short worker timeout or by a memory leak.\n",
      "  warnings.warn(\n",
      "/Users/jorgea/opt/anaconda3/lib/python3.8/site-packages/joblib/externals/loky/process_executor.py:688: UserWarning: A worker stopped while some jobs were given to the executor. This can be caused by a too short worker timeout or by a memory leak.\n",
      "  warnings.warn(\n",
      "/Users/jorgea/opt/anaconda3/lib/python3.8/site-packages/joblib/externals/loky/process_executor.py:688: UserWarning: A worker stopped while some jobs were given to the executor. This can be caused by a too short worker timeout or by a memory leak.\n",
      "  warnings.warn(\n",
      "/Users/jorgea/opt/anaconda3/lib/python3.8/site-packages/joblib/externals/loky/process_executor.py:688: UserWarning: A worker stopped while some jobs were given to the executor. This can be caused by a too short worker timeout or by a memory leak.\n",
      "  warnings.warn(\n",
      "/Users/jorgea/opt/anaconda3/lib/python3.8/site-packages/joblib/externals/loky/process_executor.py:688: UserWarning: A worker stopped while some jobs were given to the executor. This can be caused by a too short worker timeout or by a memory leak.\n",
      "  warnings.warn(\n",
      "/Users/jorgea/opt/anaconda3/lib/python3.8/site-packages/joblib/externals/loky/process_executor.py:688: UserWarning: A worker stopped while some jobs were given to the executor. This can be caused by a too short worker timeout or by a memory leak.\n",
      "  warnings.warn(\n",
      "/Users/jorgea/opt/anaconda3/lib/python3.8/site-packages/joblib/externals/loky/process_executor.py:688: UserWarning: A worker stopped while some jobs were given to the executor. This can be caused by a too short worker timeout or by a memory leak.\n",
      "  warnings.warn(\n",
      "/Users/jorgea/opt/anaconda3/lib/python3.8/site-packages/joblib/externals/loky/process_executor.py:688: UserWarning: A worker stopped while some jobs were given to the executor. This can be caused by a too short worker timeout or by a memory leak.\n",
      "  warnings.warn(\n",
      "/Users/jorgea/opt/anaconda3/lib/python3.8/site-packages/joblib/externals/loky/process_executor.py:688: UserWarning: A worker stopped while some jobs were given to the executor. This can be caused by a too short worker timeout or by a memory leak.\n",
      "  warnings.warn(\n",
      "/Users/jorgea/opt/anaconda3/lib/python3.8/site-packages/joblib/externals/loky/process_executor.py:688: UserWarning: A worker stopped while some jobs were given to the executor. This can be caused by a too short worker timeout or by a memory leak.\n",
      "  warnings.warn(\n",
      "/Users/jorgea/opt/anaconda3/lib/python3.8/site-packages/joblib/externals/loky/process_executor.py:688: UserWarning: A worker stopped while some jobs were given to the executor. This can be caused by a too short worker timeout or by a memory leak.\n",
      "  warnings.warn(\n"
     ]
    },
    {
     "data": {
      "text/plain": [
       "{'max_depth': 8, 'n_estimators': 100}"
      ]
     },
     "execution_count": 90,
     "metadata": {},
     "output_type": "execute_result"
    }
   ],
   "source": [
    "param_grid = { \n",
    "    'n_estimators': [100, 300],\n",
    "    'max_depth': [8, 15]\n",
    "}\n",
    "\n",
    "mejor_RFC_count = GridSearchCV(rfc, param_grid, cv=particiones)\n",
    "mejor_RFC_count.fit(X_count_train, y_train)\n",
    "mejor_RFC_count.best_params_\n"
   ]
  },
  {
   "cell_type": "code",
   "execution_count": 91,
   "metadata": {},
   "outputs": [
    {
     "name": "stderr",
     "output_type": "stream",
     "text": [
      "/Users/jorgea/opt/anaconda3/lib/python3.8/site-packages/joblib/externals/loky/process_executor.py:688: UserWarning: A worker stopped while some jobs were given to the executor. This can be caused by a too short worker timeout or by a memory leak.\n",
      "  warnings.warn(\n",
      "/Users/jorgea/opt/anaconda3/lib/python3.8/site-packages/joblib/externals/loky/process_executor.py:688: UserWarning: A worker stopped while some jobs were given to the executor. This can be caused by a too short worker timeout or by a memory leak.\n",
      "  warnings.warn(\n",
      "/Users/jorgea/opt/anaconda3/lib/python3.8/site-packages/joblib/externals/loky/process_executor.py:688: UserWarning: A worker stopped while some jobs were given to the executor. This can be caused by a too short worker timeout or by a memory leak.\n",
      "  warnings.warn(\n",
      "/Users/jorgea/opt/anaconda3/lib/python3.8/site-packages/joblib/externals/loky/process_executor.py:688: UserWarning: A worker stopped while some jobs were given to the executor. This can be caused by a too short worker timeout or by a memory leak.\n",
      "  warnings.warn(\n",
      "/Users/jorgea/opt/anaconda3/lib/python3.8/site-packages/joblib/externals/loky/process_executor.py:688: UserWarning: A worker stopped while some jobs were given to the executor. This can be caused by a too short worker timeout or by a memory leak.\n",
      "  warnings.warn(\n",
      "/Users/jorgea/opt/anaconda3/lib/python3.8/site-packages/joblib/externals/loky/process_executor.py:688: UserWarning: A worker stopped while some jobs were given to the executor. This can be caused by a too short worker timeout or by a memory leak.\n",
      "  warnings.warn(\n",
      "/Users/jorgea/opt/anaconda3/lib/python3.8/site-packages/joblib/externals/loky/process_executor.py:688: UserWarning: A worker stopped while some jobs were given to the executor. This can be caused by a too short worker timeout or by a memory leak.\n",
      "  warnings.warn(\n",
      "/Users/jorgea/opt/anaconda3/lib/python3.8/site-packages/joblib/externals/loky/process_executor.py:688: UserWarning: A worker stopped while some jobs were given to the executor. This can be caused by a too short worker timeout or by a memory leak.\n",
      "  warnings.warn(\n",
      "/Users/jorgea/opt/anaconda3/lib/python3.8/site-packages/joblib/externals/loky/process_executor.py:688: UserWarning: A worker stopped while some jobs were given to the executor. This can be caused by a too short worker timeout or by a memory leak.\n",
      "  warnings.warn(\n",
      "/Users/jorgea/opt/anaconda3/lib/python3.8/site-packages/joblib/externals/loky/process_executor.py:688: UserWarning: A worker stopped while some jobs were given to the executor. This can be caused by a too short worker timeout or by a memory leak.\n",
      "  warnings.warn(\n",
      "/Users/jorgea/opt/anaconda3/lib/python3.8/site-packages/joblib/externals/loky/process_executor.py:688: UserWarning: A worker stopped while some jobs were given to the executor. This can be caused by a too short worker timeout or by a memory leak.\n",
      "  warnings.warn(\n",
      "/Users/jorgea/opt/anaconda3/lib/python3.8/site-packages/joblib/externals/loky/process_executor.py:688: UserWarning: A worker stopped while some jobs were given to the executor. This can be caused by a too short worker timeout or by a memory leak.\n",
      "  warnings.warn(\n",
      "/Users/jorgea/opt/anaconda3/lib/python3.8/site-packages/joblib/externals/loky/process_executor.py:688: UserWarning: A worker stopped while some jobs were given to the executor. This can be caused by a too short worker timeout or by a memory leak.\n",
      "  warnings.warn(\n",
      "/Users/jorgea/opt/anaconda3/lib/python3.8/site-packages/joblib/externals/loky/process_executor.py:688: UserWarning: A worker stopped while some jobs were given to the executor. This can be caused by a too short worker timeout or by a memory leak.\n",
      "  warnings.warn(\n",
      "/Users/jorgea/opt/anaconda3/lib/python3.8/site-packages/joblib/externals/loky/process_executor.py:688: UserWarning: A worker stopped while some jobs were given to the executor. This can be caused by a too short worker timeout or by a memory leak.\n",
      "  warnings.warn(\n",
      "/Users/jorgea/opt/anaconda3/lib/python3.8/site-packages/joblib/externals/loky/process_executor.py:688: UserWarning: A worker stopped while some jobs were given to the executor. This can be caused by a too short worker timeout or by a memory leak.\n",
      "  warnings.warn(\n",
      "/Users/jorgea/opt/anaconda3/lib/python3.8/site-packages/joblib/externals/loky/process_executor.py:688: UserWarning: A worker stopped while some jobs were given to the executor. This can be caused by a too short worker timeout or by a memory leak.\n",
      "  warnings.warn(\n",
      "/Users/jorgea/opt/anaconda3/lib/python3.8/site-packages/joblib/externals/loky/process_executor.py:688: UserWarning: A worker stopped while some jobs were given to the executor. This can be caused by a too short worker timeout or by a memory leak.\n",
      "  warnings.warn(\n",
      "/Users/jorgea/opt/anaconda3/lib/python3.8/site-packages/joblib/externals/loky/process_executor.py:688: UserWarning: A worker stopped while some jobs were given to the executor. This can be caused by a too short worker timeout or by a memory leak.\n",
      "  warnings.warn(\n"
     ]
    },
    {
     "data": {
      "text/plain": [
       "{'max_depth': 15, 'n_estimators': 100}"
      ]
     },
     "execution_count": 91,
     "metadata": {},
     "output_type": "execute_result"
    }
   ],
   "source": [
    "rfc = RandomForestClassifier(random_state = 0, n_jobs=-1) \n",
    "mejor_RFC_tfid = GridSearchCV(rfc, param_grid, cv=particiones)\n",
    "mejor_RFC_tfid.fit(X_tfid_train, y_train)\n",
    "mejor_RFC_tfid.best_params_"
   ]
  },
  {
   "cell_type": "code",
   "execution_count": 93,
   "metadata": {},
   "outputs": [
    {
     "name": "stdout",
     "output_type": "stream",
     "text": [
      "Método countVectorizer\n",
      "RFC: Exactitud sobre entrenamiento: 0.67\n",
      "RFC: Exactitud sobre test: 0.67\n",
      "\n",
      "Método TFID Vectorizer\n",
      "RFC: Exactitud sobre entrenamiento: 0.67\n",
      "RFC: Exactitud sobre test: 0.67\n"
     ]
    }
   ],
   "source": [
    "rfc_top_model_count = mejor_RFC_count.best_estimator_\n",
    "rfc_top_model_tfid = mejor_RFC_tfid.best_estimator_\n",
    "\n",
    "rfc_top_model_count.fit(X_count_train,y_train)\n",
    "rfc_top_model_tfid.fit(X_tfid_train,y_train)\n",
    "\n",
    "y_pred_train_count = rfc_top_model_count.predict(X_count_train)\n",
    "y_pred_test_count = rfc_top_model_count.predict(X_count_test)\n",
    "\n",
    "y_pred_train_tfid = rfc_top_model_tfid.predict(X_tfid_train)\n",
    "y_pred_test_tfid = rfc_top_model_tfid.predict(X_tfid_test)\n",
    "\n",
    "print('Método countVectorizer')\n",
    "print('RFC: Exactitud sobre entrenamiento: %.2f' % accuracy_score(y_train, y_pred_train_count))\n",
    "print('RFC: Exactitud sobre test: %.2f' % accuracy_score(y_test, y_pred_test_count))\n",
    "print()\n",
    "print('Método TFID Vectorizer')\n",
    "print('RFC: Exactitud sobre entrenamiento: %.2f' % accuracy_score(y_train, y_pred_train_tfid))\n",
    "print('RFC: Exactitud sobre test: %.2f' % accuracy_score(y_test, y_pred_test_tfid))"
   ]
  },
  {
   "cell_type": "code",
   "execution_count": 95,
   "metadata": {},
   "outputs": [
    {
     "data": {
      "image/png": "[encoded data removed]",
      "text/plain": [
       "<Figure size 800x550 with 2 Axes>"
      ]
     },
     "metadata": {},
     "output_type": "display_data"
    }
   ],
   "source": [
    "plot_confusion_matrix(rfc_top_model_tfid, X_tfid_test, y_test)  \n",
    "plt.show()  "
   ]
  },
  {
   "cell_type": "code",
   "execution_count": null,
   "metadata": {},
   "outputs": [],
   "source": []
  },
  {
   "cell_type": "code",
   "execution_count": null,
   "metadata": {},
   "outputs": [],
   "source": []
  },
  {
   "cell_type": "code",
   "execution_count": null,
   "metadata": {},
   "outputs": [],
   "source": []
  },
  {
   "cell_type": "code",
   "execution_count": null,
   "metadata": {},
   "outputs": [],
   "source": []
  }
 ],
 "metadata": {
  "kernelspec": {
   "display_name": "Python 3",
   "language": "python",
   "name": "python3"
  },
  "language_info": {
   "codemirror_mode": {
    "name": "ipython",
    "version": 3
   },
   "file_extension": ".py",
   "mimetype": "text/x-python",
   "name": "python",
   "nbconvert_exporter": "python",
   "pygments_lexer": "ipython3",
   "version": "3.8.8"
  }
 },
 "nbformat": 4,
 "nbformat_minor": 4
}
