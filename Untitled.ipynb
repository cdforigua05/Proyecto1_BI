{
 "cells": [
  {
   "cell_type": "markdown",
   "metadata": {},
   "source": [
    "# Proyecto 1: Revisión de sentimientos en comentarios de libros\n",
    "## Integrantes:\n",
    "* Natalia Sanabria Forero - 201532265\n",
    "* Jorge Andrés Esguerra Alarcón - 201719920\n",
    "* Christian Forigua - 201713023"
   ]
  },
  {
   "cell_type": "code",
   "execution_count": 5,
   "metadata": {},
   "outputs": [
    {
     "name": "stdout",
     "output_type": "stream",
     "text": [
      "Requirement already satisfied: contractions in c:\\users\\forid\\anaconda3\\envs\\lab01\\lib\\site-packages (0.0.52)\n",
      "Requirement already satisfied: textsearch>=0.0.21 in c:\\users\\forid\\anaconda3\\envs\\lab01\\lib\\site-packages (from contractions) (0.0.21)\n",
      "Requirement already satisfied: anyascii in c:\\users\\forid\\anaconda3\\envs\\lab01\\lib\\site-packages (from textsearch>=0.0.21->contractions) (0.3.0)\n",
      "Requirement already satisfied: pyahocorasick in c:\\users\\forid\\anaconda3\\envs\\lab01\\lib\\site-packages (from textsearch>=0.0.21->contractions) (1.4.2)\n",
      "Requirement already satisfied: numpy in c:\\users\\forid\\anaconda3\\envs\\lab01\\lib\\site-packages (1.21.2)\n",
      "Requirement already satisfied: joblib in c:\\users\\forid\\anaconda3\\envs\\lab01\\lib\\site-packages (1.0.1)\n",
      "Requirement already satisfied: inflect in c:\\users\\forid\\anaconda3\\envs\\lab01\\lib\\site-packages (5.3.0)\n",
      "Requirement already satisfied: pandas-profiling==2.7.1 in c:\\users\\forid\\anaconda3\\envs\\lab01\\lib\\site-packages (2.7.1)\n",
      "Requirement already satisfied: tangled-up-in-unicode>=0.0.4 in c:\\users\\forid\\anaconda3\\envs\\lab01\\lib\\site-packages (from pandas-profiling==2.7.1) (0.2.0)\n",
      "Requirement already satisfied: phik>=0.9.10 in c:\\users\\forid\\anaconda3\\envs\\lab01\\lib\\site-packages (from pandas-profiling==2.7.1) (0.12.0)\n",
      "Requirement already satisfied: astropy>=4.0 in c:\\users\\forid\\anaconda3\\envs\\lab01\\lib\\site-packages (from pandas-profiling==2.7.1) (4.3.1)\n",
      "Requirement already satisfied: requests>=2.23.0 in c:\\users\\forid\\anaconda3\\envs\\lab01\\lib\\site-packages (from pandas-profiling==2.7.1) (2.25.1)\n",
      "Requirement already satisfied: missingno>=0.4.2 in c:\\users\\forid\\anaconda3\\envs\\lab01\\lib\\site-packages (from pandas-profiling==2.7.1) (0.5.0)\n",
      "Requirement already satisfied: jinja2>=2.11.1 in c:\\users\\forid\\anaconda3\\envs\\lab01\\lib\\site-packages (from pandas-profiling==2.7.1) (3.0.1)\n",
      "Requirement already satisfied: scipy>=1.4.1 in c:\\users\\forid\\anaconda3\\envs\\lab01\\lib\\site-packages (from pandas-profiling==2.7.1) (1.7.1)\n",
      "Requirement already satisfied: visions[type_image_path]==0.4.1 in c:\\users\\forid\\anaconda3\\envs\\lab01\\lib\\site-packages (from pandas-profiling==2.7.1) (0.4.1)\n",
      "Requirement already satisfied: htmlmin>=0.1.12 in c:\\users\\forid\\anaconda3\\envs\\lab01\\lib\\site-packages (from pandas-profiling==2.7.1) (0.1.12)\n",
      "Requirement already satisfied: tqdm>=4.43.0 in c:\\users\\forid\\anaconda3\\envs\\lab01\\lib\\site-packages (from pandas-profiling==2.7.1) (4.62.3)\n",
      "Requirement already satisfied: ipywidgets>=7.5.1 in c:\\users\\forid\\anaconda3\\envs\\lab01\\lib\\site-packages (from pandas-profiling==2.7.1) (7.6.5)\n",
      "Requirement already satisfied: confuse>=1.0.0 in c:\\users\\forid\\anaconda3\\envs\\lab01\\lib\\site-packages (from pandas-profiling==2.7.1) (1.6.0)\n",
      "Requirement already satisfied: numpy>=1.16.0 in c:\\users\\forid\\anaconda3\\envs\\lab01\\lib\\site-packages (from pandas-profiling==2.7.1) (1.21.2)\n",
      "Requirement already satisfied: matplotlib>=3.2.0 in c:\\users\\forid\\anaconda3\\envs\\lab01\\lib\\site-packages (from pandas-profiling==2.7.1) (3.4.3)\n",
      "Requirement already satisfied: pandas!=1.0.0,!=1.0.1,!=1.0.2,>=0.25.3 in c:\\users\\forid\\anaconda3\\envs\\lab01\\lib\\site-packages (from pandas-profiling==2.7.1) (1.3.3)\n",
      "Requirement already satisfied: joblib in c:\\users\\forid\\anaconda3\\envs\\lab01\\lib\\site-packages (from pandas-profiling==2.7.1) (1.0.1)\n",
      "Requirement already satisfied: importlib-metadata; python_version == \"3.7\" in c:\\users\\forid\\anaconda3\\envs\\lab01\\lib\\site-packages (from astropy>=4.0->pandas-profiling==2.7.1) (4.8.1)\n",
      "Requirement already satisfied: pyerfa>=1.7.3 in c:\\users\\forid\\anaconda3\\envs\\lab01\\lib\\site-packages (from astropy>=4.0->pandas-profiling==2.7.1) (2.0.0)\n",
      "Requirement already satisfied: chardet<5,>=3.0.2 in c:\\users\\forid\\anaconda3\\envs\\lab01\\lib\\site-packages (from requests>=2.23.0->pandas-profiling==2.7.1) (4.0.0)\n",
      "Requirement already satisfied: urllib3<1.27,>=1.21.1 in c:\\users\\forid\\anaconda3\\envs\\lab01\\lib\\site-packages (from requests>=2.23.0->pandas-profiling==2.7.1) (1.26.7)\n",
      "Requirement already satisfied: idna<3,>=2.5 in c:\\users\\forid\\anaconda3\\envs\\lab01\\lib\\site-packages (from requests>=2.23.0->pandas-profiling==2.7.1) (2.10)\n",
      "Requirement already satisfied: certifi>=2017.4.17 in c:\\users\\forid\\anaconda3\\envs\\lab01\\lib\\site-packages (from requests>=2.23.0->pandas-profiling==2.7.1) (2021.5.30)\n",
      "Requirement already satisfied: seaborn in c:\\users\\forid\\anaconda3\\envs\\lab01\\lib\\site-packages (from missingno>=0.4.2->pandas-profiling==2.7.1) (0.11.2)\n",
      "Requirement already satisfied: MarkupSafe>=2.0 in c:\\users\\forid\\anaconda3\\envs\\lab01\\lib\\site-packages (from jinja2>=2.11.1->pandas-profiling==2.7.1) (2.0.1)\n",
      "Requirement already satisfied: networkx>=2.4 in c:\\users\\forid\\anaconda3\\envs\\lab01\\lib\\site-packages (from visions[type_image_path]==0.4.1->pandas-profiling==2.7.1) (2.6.3)\n",
      "Requirement already satisfied: attrs>=19.3.0 in c:\\users\\forid\\anaconda3\\envs\\lab01\\lib\\site-packages (from visions[type_image_path]==0.4.1->pandas-profiling==2.7.1) (21.2.0)\n",
      "Requirement already satisfied: Pillow; extra == \"type_image_path\" in c:\\users\\forid\\anaconda3\\envs\\lab01\\lib\\site-packages (from visions[type_image_path]==0.4.1->pandas-profiling==2.7.1) (8.3.2)\n",
      "Requirement already satisfied: imagehash; extra == \"type_image_path\" in c:\\users\\forid\\anaconda3\\envs\\lab01\\lib\\site-packages (from visions[type_image_path]==0.4.1->pandas-profiling==2.7.1) (4.2.1)\n",
      "Requirement already satisfied: colorama; platform_system == \"Windows\" in c:\\users\\forid\\anaconda3\\envs\\lab01\\lib\\site-packages (from tqdm>=4.43.0->pandas-profiling==2.7.1) (0.4.4)\n",
      "Requirement already satisfied: ipython>=4.0.0; python_version >= \"3.3\" in c:\\users\\forid\\anaconda3\\envs\\lab01\\lib\\site-packages (from ipywidgets>=7.5.1->pandas-profiling==2.7.1) (7.28.0)\n",
      "Requirement already satisfied: traitlets>=4.3.1 in c:\\users\\forid\\anaconda3\\envs\\lab01\\lib\\site-packages (from ipywidgets>=7.5.1->pandas-profiling==2.7.1) (5.1.0)\n",
      "Requirement already satisfied: nbformat>=4.2.0 in c:\\users\\forid\\anaconda3\\envs\\lab01\\lib\\site-packages (from ipywidgets>=7.5.1->pandas-profiling==2.7.1) (5.1.3)\n",
      "Requirement already satisfied: ipykernel>=4.5.1 in c:\\users\\forid\\anaconda3\\envs\\lab01\\lib\\site-packages (from ipywidgets>=7.5.1->pandas-profiling==2.7.1) (6.4.1)\n",
      "Requirement already satisfied: widgetsnbextension~=3.5.0 in c:\\users\\forid\\anaconda3\\envs\\lab01\\lib\\site-packages (from ipywidgets>=7.5.1->pandas-profiling==2.7.1) (3.5.1)\n",
      "Requirement already satisfied: ipython-genutils~=0.2.0 in c:\\users\\forid\\anaconda3\\envs\\lab01\\lib\\site-packages (from ipywidgets>=7.5.1->pandas-profiling==2.7.1) (0.2.0)\n",
      "Requirement already satisfied: jupyterlab-widgets>=1.0.0; python_version >= \"3.6\" in c:\\users\\forid\\anaconda3\\envs\\lab01\\lib\\site-packages (from ipywidgets>=7.5.1->pandas-profiling==2.7.1) (1.0.2)\n",
      "Requirement already satisfied: pyyaml in c:\\users\\forid\\anaconda3\\envs\\lab01\\lib\\site-packages (from confuse>=1.0.0->pandas-profiling==2.7.1) (5.4.1)\n",
      "Requirement already satisfied: python-dateutil>=2.7 in c:\\users\\forid\\anaconda3\\envs\\lab01\\lib\\site-packages (from matplotlib>=3.2.0->pandas-profiling==2.7.1) (2.8.2)\n",
      "Requirement already satisfied: kiwisolver>=1.0.1 in c:\\users\\forid\\anaconda3\\envs\\lab01\\lib\\site-packages (from matplotlib>=3.2.0->pandas-profiling==2.7.1) (1.3.2)\n",
      "Requirement already satisfied: cycler>=0.10 in c:\\users\\forid\\anaconda3\\envs\\lab01\\lib\\site-packages (from matplotlib>=3.2.0->pandas-profiling==2.7.1) (0.10.0)\n",
      "Requirement already satisfied: pyparsing>=2.2.1 in c:\\users\\forid\\anaconda3\\envs\\lab01\\lib\\site-packages (from matplotlib>=3.2.0->pandas-profiling==2.7.1) (2.4.7)\n",
      "Requirement already satisfied: pytz>=2017.3 in c:\\users\\forid\\anaconda3\\envs\\lab01\\lib\\site-packages (from pandas!=1.0.0,!=1.0.1,!=1.0.2,>=0.25.3->pandas-profiling==2.7.1) (2021.1)\n",
      "Requirement already satisfied: zipp>=0.5 in c:\\users\\forid\\anaconda3\\envs\\lab01\\lib\\site-packages (from importlib-metadata; python_version == \"3.7\"->astropy>=4.0->pandas-profiling==2.7.1) (3.5.0)\n",
      "Requirement already satisfied: typing-extensions>=3.6.4; python_version < \"3.8\" in c:\\users\\forid\\anaconda3\\envs\\lab01\\lib\\site-packages (from importlib-metadata; python_version == \"3.7\"->astropy>=4.0->pandas-profiling==2.7.1) (3.10.0.2)\n",
      "Requirement already satisfied: PyWavelets in c:\\users\\forid\\anaconda3\\envs\\lab01\\lib\\site-packages (from imagehash; extra == \"type_image_path\"->visions[type_image_path]==0.4.1->pandas-profiling==2.7.1) (1.1.1)\n",
      "Requirement already satisfied: six in c:\\users\\forid\\anaconda3\\envs\\lab01\\lib\\site-packages (from imagehash; extra == \"type_image_path\"->visions[type_image_path]==0.4.1->pandas-profiling==2.7.1) (1.16.0)\n",
      "Requirement already satisfied: pickleshare in c:\\users\\forid\\anaconda3\\envs\\lab01\\lib\\site-packages (from ipython>=4.0.0; python_version >= \"3.3\"->ipywidgets>=7.5.1->pandas-profiling==2.7.1) (0.7.5)\n",
      "Requirement already satisfied: matplotlib-inline in c:\\users\\forid\\anaconda3\\envs\\lab01\\lib\\site-packages (from ipython>=4.0.0; python_version >= \"3.3\"->ipywidgets>=7.5.1->pandas-profiling==2.7.1) (0.1.3)\n",
      "Requirement already satisfied: backcall in c:\\users\\forid\\anaconda3\\envs\\lab01\\lib\\site-packages (from ipython>=4.0.0; python_version >= \"3.3\"->ipywidgets>=7.5.1->pandas-profiling==2.7.1) (0.2.0)\n",
      "Requirement already satisfied: setuptools>=18.5 in c:\\users\\forid\\anaconda3\\envs\\lab01\\lib\\site-packages (from ipython>=4.0.0; python_version >= \"3.3\"->ipywidgets>=7.5.1->pandas-profiling==2.7.1) (44.0.0.post20200106)\n",
      "Requirement already satisfied: pygments in c:\\users\\forid\\anaconda3\\envs\\lab01\\lib\\site-packages (from ipython>=4.0.0; python_version >= \"3.3\"->ipywidgets>=7.5.1->pandas-profiling==2.7.1) (2.10.0)\n",
      "Requirement already satisfied: prompt-toolkit!=3.0.0,!=3.0.1,<3.1.0,>=2.0.0 in c:\\users\\forid\\anaconda3\\envs\\lab01\\lib\\site-packages (from ipython>=4.0.0; python_version >= \"3.3\"->ipywidgets>=7.5.1->pandas-profiling==2.7.1) (3.0.20)\n",
      "Requirement already satisfied: decorator in c:\\users\\forid\\anaconda3\\envs\\lab01\\lib\\site-packages (from ipython>=4.0.0; python_version >= \"3.3\"->ipywidgets>=7.5.1->pandas-profiling==2.7.1) (5.1.0)\n",
      "Requirement already satisfied: jedi>=0.16 in c:\\users\\forid\\anaconda3\\envs\\lab01\\lib\\site-packages (from ipython>=4.0.0; python_version >= \"3.3\"->ipywidgets>=7.5.1->pandas-profiling==2.7.1) (0.18.0)\n",
      "Requirement already satisfied: jupyter-core in c:\\users\\forid\\anaconda3\\envs\\lab01\\lib\\site-packages (from nbformat>=4.2.0->ipywidgets>=7.5.1->pandas-profiling==2.7.1) (4.8.1)\n",
      "Requirement already satisfied: jsonschema!=2.5.0,>=2.4 in c:\\users\\forid\\anaconda3\\envs\\lab01\\lib\\site-packages (from nbformat>=4.2.0->ipywidgets>=7.5.1->pandas-profiling==2.7.1) (3.2.0)\n",
      "Requirement already satisfied: jupyter-client<8.0 in c:\\users\\forid\\anaconda3\\envs\\lab01\\lib\\site-packages (from ipykernel>=4.5.1->ipywidgets>=7.5.1->pandas-profiling==2.7.1) (7.0.5)\n",
      "Requirement already satisfied: debugpy<2.0,>=1.0.0 in c:\\users\\forid\\anaconda3\\envs\\lab01\\lib\\site-packages (from ipykernel>=4.5.1->ipywidgets>=7.5.1->pandas-profiling==2.7.1) (1.4.1)\n",
      "Requirement already satisfied: tornado<7.0,>=4.2 in c:\\users\\forid\\anaconda3\\envs\\lab01\\lib\\site-packages (from ipykernel>=4.5.1->ipywidgets>=7.5.1->pandas-profiling==2.7.1) (6.1)\n",
      "Requirement already satisfied: argcomplete>=1.12.3; python_version < \"3.8.0\" in c:\\users\\forid\\anaconda3\\envs\\lab01\\lib\\site-packages (from ipykernel>=4.5.1->ipywidgets>=7.5.1->pandas-profiling==2.7.1) (1.12.3)\n",
      "Requirement already satisfied: notebook>=4.4.1 in c:\\users\\forid\\anaconda3\\envs\\lab01\\lib\\site-packages (from widgetsnbextension~=3.5.0->ipywidgets>=7.5.1->pandas-profiling==2.7.1) (6.4.4)\n",
      "Requirement already satisfied: wcwidth in c:\\users\\forid\\anaconda3\\envs\\lab01\\lib\\site-packages (from prompt-toolkit!=3.0.0,!=3.0.1,<3.1.0,>=2.0.0->ipython>=4.0.0; python_version >= \"3.3\"->ipywidgets>=7.5.1->pandas-profiling==2.7.1) (0.2.5)\n",
      "Requirement already satisfied: parso<0.9.0,>=0.8.0 in c:\\users\\forid\\anaconda3\\envs\\lab01\\lib\\site-packages (from jedi>=0.16->ipython>=4.0.0; python_version >= \"3.3\"->ipywidgets>=7.5.1->pandas-profiling==2.7.1) (0.8.2)\n",
      "Requirement already satisfied: pywin32>=1.0; sys_platform == \"win32\" and platform_python_implementation != \"PyPy\" in c:\\users\\forid\\anaconda3\\envs\\lab01\\lib\\site-packages (from jupyter-core->nbformat>=4.2.0->ipywidgets>=7.5.1->pandas-profiling==2.7.1) (301)\n",
      "Requirement already satisfied: pyrsistent>=0.14.0 in c:\\users\\forid\\anaconda3\\envs\\lab01\\lib\\site-packages (from jsonschema!=2.5.0,>=2.4->nbformat>=4.2.0->ipywidgets>=7.5.1->pandas-profiling==2.7.1) (0.17.3)\n",
      "Requirement already satisfied: pyzmq>=13 in c:\\users\\forid\\anaconda3\\envs\\lab01\\lib\\site-packages (from jupyter-client<8.0->ipykernel>=4.5.1->ipywidgets>=7.5.1->pandas-profiling==2.7.1) (22.3.0)\n",
      "Requirement already satisfied: nest-asyncio>=1.5 in c:\\users\\forid\\anaconda3\\envs\\lab01\\lib\\site-packages (from jupyter-client<8.0->ipykernel>=4.5.1->ipywidgets>=7.5.1->pandas-profiling==2.7.1) (1.5.1)\n",
      "Requirement already satisfied: entrypoints in c:\\users\\forid\\anaconda3\\envs\\lab01\\lib\\site-packages (from jupyter-client<8.0->ipykernel>=4.5.1->ipywidgets>=7.5.1->pandas-profiling==2.7.1) (0.3)\n",
      "Requirement already satisfied: nbconvert in c:\\users\\forid\\anaconda3\\envs\\lab01\\lib\\site-packages (from notebook>=4.4.1->widgetsnbextension~=3.5.0->ipywidgets>=7.5.1->pandas-profiling==2.7.1) (6.2.0)\n",
      "Requirement already satisfied: argon2-cffi in c:\\users\\forid\\anaconda3\\envs\\lab01\\lib\\site-packages (from notebook>=4.4.1->widgetsnbextension~=3.5.0->ipywidgets>=7.5.1->pandas-profiling==2.7.1) (20.1.0)\n",
      "Requirement already satisfied: Send2Trash>=1.5.0 in c:\\users\\forid\\anaconda3\\envs\\lab01\\lib\\site-packages (from notebook>=4.4.1->widgetsnbextension~=3.5.0->ipywidgets>=7.5.1->pandas-profiling==2.7.1) (1.8.0)\n",
      "Requirement already satisfied: terminado>=0.8.3 in c:\\users\\forid\\anaconda3\\envs\\lab01\\lib\\site-packages (from notebook>=4.4.1->widgetsnbextension~=3.5.0->ipywidgets>=7.5.1->pandas-profiling==2.7.1) (0.9.5)\n",
      "Requirement already satisfied: prometheus-client in c:\\users\\forid\\anaconda3\\envs\\lab01\\lib\\site-packages (from notebook>=4.4.1->widgetsnbextension~=3.5.0->ipywidgets>=7.5.1->pandas-profiling==2.7.1) (0.11.0)\n",
      "Requirement already satisfied: mistune<2,>=0.8.1 in c:\\users\\forid\\anaconda3\\envs\\lab01\\lib\\site-packages (from nbconvert->notebook>=4.4.1->widgetsnbextension~=3.5.0->ipywidgets>=7.5.1->pandas-profiling==2.7.1) (0.8.4)\n",
      "Requirement already satisfied: nbclient<0.6.0,>=0.5.0 in c:\\users\\forid\\anaconda3\\envs\\lab01\\lib\\site-packages (from nbconvert->notebook>=4.4.1->widgetsnbextension~=3.5.0->ipywidgets>=7.5.1->pandas-profiling==2.7.1) (0.5.4)\n",
      "Requirement already satisfied: bleach in c:\\users\\forid\\anaconda3\\envs\\lab01\\lib\\site-packages (from nbconvert->notebook>=4.4.1->widgetsnbextension~=3.5.0->ipywidgets>=7.5.1->pandas-profiling==2.7.1) (4.1.0)\n",
      "Requirement already satisfied: defusedxml in c:\\users\\forid\\anaconda3\\envs\\lab01\\lib\\site-packages (from nbconvert->notebook>=4.4.1->widgetsnbextension~=3.5.0->ipywidgets>=7.5.1->pandas-profiling==2.7.1) (0.7.1)\n",
      "Requirement already satisfied: testpath in c:\\users\\forid\\anaconda3\\envs\\lab01\\lib\\site-packages (from nbconvert->notebook>=4.4.1->widgetsnbextension~=3.5.0->ipywidgets>=7.5.1->pandas-profiling==2.7.1) (0.5.0)\n",
      "Requirement already satisfied: jupyterlab-pygments in c:\\users\\forid\\anaconda3\\envs\\lab01\\lib\\site-packages (from nbconvert->notebook>=4.4.1->widgetsnbextension~=3.5.0->ipywidgets>=7.5.1->pandas-profiling==2.7.1) (0.1.2)\n",
      "Requirement already satisfied: pandocfilters>=1.4.1 in c:\\users\\forid\\anaconda3\\envs\\lab01\\lib\\site-packages (from nbconvert->notebook>=4.4.1->widgetsnbextension~=3.5.0->ipywidgets>=7.5.1->pandas-profiling==2.7.1) (1.5.0)\n",
      "Requirement already satisfied: cffi>=1.0.0 in c:\\users\\forid\\anaconda3\\envs\\lab01\\lib\\site-packages (from argon2-cffi->notebook>=4.4.1->widgetsnbextension~=3.5.0->ipywidgets>=7.5.1->pandas-profiling==2.7.1) (1.14.6)\n",
      "Requirement already satisfied: pywinpty<1,>=0.5; os_name == \"nt\" in c:\\users\\forid\\anaconda3\\envs\\lab01\\lib\\site-packages (from terminado>=0.8.3->notebook>=4.4.1->widgetsnbextension~=3.5.0->ipywidgets>=7.5.1->pandas-profiling==2.7.1) (0.5.7)\n",
      "Requirement already satisfied: packaging in c:\\users\\forid\\anaconda3\\envs\\lab01\\lib\\site-packages (from bleach->nbconvert->notebook>=4.4.1->widgetsnbextension~=3.5.0->ipywidgets>=7.5.1->pandas-profiling==2.7.1) (21.0)\n",
      "Requirement already satisfied: webencodings in c:\\users\\forid\\anaconda3\\envs\\lab01\\lib\\site-packages (from bleach->nbconvert->notebook>=4.4.1->widgetsnbextension~=3.5.0->ipywidgets>=7.5.1->pandas-profiling==2.7.1) (0.5.1)\n",
      "Requirement already satisfied: pycparser in c:\\users\\forid\\anaconda3\\envs\\lab01\\lib\\site-packages (from cffi>=1.0.0->argon2-cffi->notebook>=4.4.1->widgetsnbextension~=3.5.0->ipywidgets>=7.5.1->pandas-profiling==2.7.1) (2.20)\n",
      "Requirement already satisfied: nltk in c:\\users\\forid\\anaconda3\\envs\\lab01\\lib\\site-packages (3.6.3)\n",
      "Requirement already satisfied: click in c:\\users\\forid\\anaconda3\\envs\\lab01\\lib\\site-packages (from nltk) (8.0.1)\n",
      "Requirement already satisfied: regex in c:\\users\\forid\\anaconda3\\envs\\lab01\\lib\\site-packages (from nltk) (2021.9.24)\n",
      "Requirement already satisfied: joblib in c:\\users\\forid\\anaconda3\\envs\\lab01\\lib\\site-packages (from nltk) (1.0.1)\n",
      "Requirement already satisfied: tqdm in c:\\users\\forid\\anaconda3\\envs\\lab01\\lib\\site-packages (from nltk) (4.62.3)\n",
      "Requirement already satisfied: colorama; platform_system == \"Windows\" in c:\\users\\forid\\anaconda3\\envs\\lab01\\lib\\site-packages (from click->nltk) (0.4.4)\n",
      "Requirement already satisfied: importlib-metadata; python_version < \"3.8\" in c:\\users\\forid\\anaconda3\\envs\\lab01\\lib\\site-packages (from click->nltk) (4.8.1)\n",
      "Requirement already satisfied: typing-extensions>=3.6.4; python_version < \"3.8\" in c:\\users\\forid\\anaconda3\\envs\\lab01\\lib\\site-packages (from importlib-metadata; python_version < \"3.8\"->click->nltk) (3.10.0.2)\n",
      "Requirement already satisfied: zipp>=0.5 in c:\\users\\forid\\anaconda3\\envs\\lab01\\lib\\site-packages (from importlib-metadata; python_version < \"3.8\"->click->nltk) (3.5.0)\n",
      "Collecting sklearn\n",
      "  Downloading https://files.pythonhosted.org/packages/1e/7a/dbb3be0ce9bd5c8b7e3d87328e79063f8b263b2b1bfa4774cb1147bfcd3f/sklearn-0.0.tar.gz\n",
      "Collecting scikit-learn\n",
      "  Using cached https://files.pythonhosted.org/packages/3f/a4/9ac96921dcd7b36467ec7300ab1f9f5c98cb1a96fea35de467deae493c71/scikit_learn-1.0-cp37-cp37m-win_amd64.whl\n",
      "Requirement already satisfied: scipy>=1.1.0 in c:\\users\\forid\\anaconda3\\envs\\lab01\\lib\\site-packages (from scikit-learn->sklearn) (1.7.1)\n",
      "Collecting threadpoolctl>=2.0.0\n",
      "  Using cached https://files.pythonhosted.org/packages/c6/e8/c216b9b60cbba4642d3ca1bae7a53daa0c24426f662e0e3ce3dc7f6caeaa/threadpoolctl-2.2.0-py3-none-any.whl\n",
      "Requirement already satisfied: numpy>=1.14.6 in c:\\users\\forid\\anaconda3\\envs\\lab01\\lib\\site-packages (from scikit-learn->sklearn) (1.21.2)\n",
      "Requirement already satisfied: joblib>=0.11 in c:\\users\\forid\\anaconda3\\envs\\lab01\\lib\\site-packages (from scikit-learn->sklearn) (1.0.1)\n",
      "Building wheels for collected packages: sklearn\n",
      "  Building wheel for sklearn (setup.py): started\n",
      "  Building wheel for sklearn (setup.py): finished with status 'done'\n",
      "  Created wheel for sklearn: filename=sklearn-0.0-py2.py3-none-any.whl size=1321 sha256=c6eb3c7880004ba5a412159df44c2cfdaa7e4fa073058ecb5ca9eac0f3be74e7\n",
      "  Stored in directory: C:\\Users\\forid\\AppData\\Local\\pip\\Cache\\wheels\\76\\03\\bb\\589d421d27431bcd2c6da284d5f2286c8e3b2ea3cf1594c074\n",
      "Successfully built sklearn\n",
      "Installing collected packages: threadpoolctl, scikit-learn, sklearn\n",
      "Successfully installed scikit-learn-1.0 sklearn-0.0 threadpoolctl-2.2.0\n"
     ]
    }
   ],
   "source": [
    "# Librería para manejar las contracciones que se presentan en el inglés.\n",
    "!conda deactivate\n",
    "!pip install contractions\n",
    "!pip install numpy\n",
    "!pip install joblib\n",
    "# librería para manejar las flexiones gramaticales en el idioma inglés.\n",
    "!pip install inflect\n",
    "!pip install pandas-profiling==2.7.1\n",
    "!pip install nltk\n",
    "!pip install sklearn"
   ]
  },
  {
   "cell_type": "markdown",
   "metadata": {},
   "source": [
    "## 1. Librerías para el procesamiento de texto"
   ]
  },
  {
   "cell_type": "code",
   "execution_count": 12,
   "metadata": {},
   "outputs": [
    {
     "name": "stderr",
     "output_type": "stream",
     "text": [
      "[nltk_data] Downloading package punkt to\n",
      "[nltk_data]     C:\\Users\\forid\\AppData\\Roaming\\nltk_data...\n",
      "[nltk_data]   Package punkt is already up-to-date!\n",
      "[nltk_data] Downloading package stopwords to\n",
      "[nltk_data]     C:\\Users\\forid\\AppData\\Roaming\\nltk_data...\n",
      "[nltk_data]   Package stopwords is already up-to-date!\n",
      "[nltk_data] Downloading package wordnet to\n",
      "[nltk_data]     C:\\Users\\forid\\AppData\\Roaming\\nltk_data...\n",
      "[nltk_data]   Package wordnet is already up-to-date!\n"
     ]
    }
   ],
   "source": [
    "# Procesamiento de Lenguaje Natural\n",
    "import nltk\n",
    "nltk.download('punkt') # Separar texto en frases\n",
    "nltk.download('stopwords') # Palabras vacías\n",
    "nltk.download('wordnet') # Entender el significado de las palabras\n",
    "\n",
    "# Otras librerías\n",
    "import pandas as pd\n",
    "pd.options.mode.chained_assignment = None\n",
    "import numpy as np\n",
    "import sys\n",
    "from pandas_profiling import ProfileReport\n",
    "\n",
    "import re, string, unicodedata\n",
    "import contractions\n",
    "import inflect\n",
    "from nltk import word_tokenize, sent_tokenize\n",
    "from nltk.corpus import stopwords\n",
    "from nltk.stem import LancasterStemmer, WordNetLemmatizer\n",
    "\n",
    "from sklearn.model_selection import train_test_split,GridSearchCV\n",
    "from sklearn.feature_extraction.text import TfidfVectorizer, CountVectorizer, HashingVectorizer\n",
    "from sklearn.pipeline import Pipeline, FeatureUnion\n",
    "from sklearn.svm import SVC\n",
    "from sklearn.ensemble import BaggingClassifier, RandomForestClassifier, AdaBoostClassifier\n",
    "from sklearn.naive_bayes import BernoulliNB\n",
    "from sklearn.metrics import classification_report, confusion_matrix, plot_precision_recall_curve\n",
    "from sklearn.base import BaseEstimator, ClassifierMixin\n",
    "\n",
    "import matplotlib.pyplot as plt"
   ]
  },
  {
   "cell_type": "markdown",
   "metadata": {},
   "source": [
    "## 2. Perfilamiento y entendimiento de los datos\n",
    "### Lectura de los datos"
   ]
  },
  {
   "cell_type": "code",
   "execution_count": 14,
   "metadata": {},
   "outputs": [
    {
     "data": {
      "text/html": [
       "<div>\n",
       "<style scoped>\n",
       "    .dataframe tbody tr th:only-of-type {\n",
       "        vertical-align: middle;\n",
       "    }\n",
       "\n",
       "    .dataframe tbody tr th {\n",
       "        vertical-align: top;\n",
       "    }\n",
       "\n",
       "    .dataframe thead th {\n",
       "        text-align: right;\n",
       "    }\n",
       "</style>\n",
       "<table border=\"1\" class=\"dataframe\">\n",
       "  <thead>\n",
       "    <tr style=\"text-align: right;\">\n",
       "      <th></th>\n",
       "      <th>Unnamed: 0</th>\n",
       "      <th>asin</th>\n",
       "      <th>helpful</th>\n",
       "      <th>overall</th>\n",
       "      <th>reviewText</th>\n",
       "      <th>reviewTime</th>\n",
       "      <th>reviewerID</th>\n",
       "      <th>reviewerName</th>\n",
       "      <th>summary</th>\n",
       "      <th>unixReviewTime</th>\n",
       "    </tr>\n",
       "  </thead>\n",
       "  <tbody>\n",
       "    <tr>\n",
       "      <th>0</th>\n",
       "      <td>0</td>\n",
       "      <td>B000F83SZQ</td>\n",
       "      <td>[0, 0]</td>\n",
       "      <td>5</td>\n",
       "      <td>I enjoy vintage books and movies so I enjoyed ...</td>\n",
       "      <td>05 5, 2014</td>\n",
       "      <td>A1F6404F1VG29J</td>\n",
       "      <td>Avidreader</td>\n",
       "      <td>Nice vintage story</td>\n",
       "      <td>1399248000</td>\n",
       "    </tr>\n",
       "    <tr>\n",
       "      <th>1</th>\n",
       "      <td>1</td>\n",
       "      <td>B000F83SZQ</td>\n",
       "      <td>[2, 2]</td>\n",
       "      <td>4</td>\n",
       "      <td>This book is a reissue of an old one; the auth...</td>\n",
       "      <td>01 6, 2014</td>\n",
       "      <td>AN0N05A9LIJEQ</td>\n",
       "      <td>critters</td>\n",
       "      <td>Different...</td>\n",
       "      <td>1388966400</td>\n",
       "    </tr>\n",
       "    <tr>\n",
       "      <th>2</th>\n",
       "      <td>2</td>\n",
       "      <td>B000F83SZQ</td>\n",
       "      <td>[2, 2]</td>\n",
       "      <td>4</td>\n",
       "      <td>This was a fairly interesting read.  It had ol...</td>\n",
       "      <td>04 4, 2014</td>\n",
       "      <td>A795DMNCJILA6</td>\n",
       "      <td>dot</td>\n",
       "      <td>Oldie</td>\n",
       "      <td>1396569600</td>\n",
       "    </tr>\n",
       "    <tr>\n",
       "      <th>3</th>\n",
       "      <td>3</td>\n",
       "      <td>B000F83SZQ</td>\n",
       "      <td>[1, 1]</td>\n",
       "      <td>5</td>\n",
       "      <td>I'd never read any of the Amy Brewster mysteri...</td>\n",
       "      <td>02 19, 2014</td>\n",
       "      <td>A1FV0SX13TWVXQ</td>\n",
       "      <td>Elaine H. Turley \"Montana Songbird\"</td>\n",
       "      <td>I really liked it.</td>\n",
       "      <td>1392768000</td>\n",
       "    </tr>\n",
       "    <tr>\n",
       "      <th>4</th>\n",
       "      <td>4</td>\n",
       "      <td>B000F83SZQ</td>\n",
       "      <td>[0, 1]</td>\n",
       "      <td>4</td>\n",
       "      <td>If you like period pieces - clothing, lingo, y...</td>\n",
       "      <td>03 19, 2014</td>\n",
       "      <td>A3SPTOKDG7WBLN</td>\n",
       "      <td>Father Dowling Fan</td>\n",
       "      <td>Period Mystery</td>\n",
       "      <td>1395187200</td>\n",
       "    </tr>\n",
       "  </tbody>\n",
       "</table>\n",
       "</div>"
      ],
      "text/plain": [
       "   Unnamed: 0        asin helpful  overall  \\\n",
       "0           0  B000F83SZQ  [0, 0]        5   \n",
       "1           1  B000F83SZQ  [2, 2]        4   \n",
       "2           2  B000F83SZQ  [2, 2]        4   \n",
       "3           3  B000F83SZQ  [1, 1]        5   \n",
       "4           4  B000F83SZQ  [0, 1]        4   \n",
       "\n",
       "                                          reviewText   reviewTime  \\\n",
       "0  I enjoy vintage books and movies so I enjoyed ...   05 5, 2014   \n",
       "1  This book is a reissue of an old one; the auth...   01 6, 2014   \n",
       "2  This was a fairly interesting read.  It had ol...   04 4, 2014   \n",
       "3  I'd never read any of the Amy Brewster mysteri...  02 19, 2014   \n",
       "4  If you like period pieces - clothing, lingo, y...  03 19, 2014   \n",
       "\n",
       "       reviewerID                         reviewerName             summary  \\\n",
       "0  A1F6404F1VG29J                           Avidreader  Nice vintage story   \n",
       "1   AN0N05A9LIJEQ                             critters        Different...   \n",
       "2   A795DMNCJILA6                                  dot               Oldie   \n",
       "3  A1FV0SX13TWVXQ  Elaine H. Turley \"Montana Songbird\"  I really liked it.   \n",
       "4  A3SPTOKDG7WBLN                   Father Dowling Fan      Period Mystery   \n",
       "\n",
       "   unixReviewTime  \n",
       "0      1399248000  \n",
       "1      1388966400  \n",
       "2      1396569600  \n",
       "3      1392768000  \n",
       "4      1395187200  "
      ]
     },
     "execution_count": 14,
     "metadata": {},
     "output_type": "execute_result"
    }
   ],
   "source": [
    "data = pd.read_csv('./kindle_reviews.csv')\n",
    "data.head()"
   ]
  },
  {
   "cell_type": "markdown",
   "metadata": {},
   "source": [
    "### Entendimiento de los datos"
   ]
  },
  {
   "cell_type": "code",
   "execution_count": null,
   "metadata": {},
   "outputs": [],
   "source": [
    "data.describe()"
   ]
  },
  {
   "cell_type": "code",
   "execution_count": null,
   "metadata": {},
   "outputs": [],
   "source": [
    "data['overall'].value_counts().plot(kind = 'bar')\n",
    "plt.title('Distribución de los puntajes de los productos')\n",
    "plt.xlabel('Ranking')\n",
    "plt.xticks(rotation = 0)\n",
    "plt.ylabel('# Registros')\n",
    "plt.show()"
   ]
  },
  {
   "cell_type": "code",
   "execution_count": null,
   "metadata": {},
   "outputs": [],
   "source": [
    "df_data = (data.isna().sum()).to_frame()\n",
    "df_data.sort_values(0, ascending = False)"
   ]
  },
  {
   "cell_type": "code",
   "execution_count": null,
   "metadata": {},
   "outputs": [],
   "source": [
    "reviews = data[['reviewText', 'overall','summary']]\n",
    "df_data = (reviews.isna().sum()).to_frame()\n",
    "df_data.sort_values(0, ascending = False)"
   ]
  },
  {
   "cell_type": "code",
   "execution_count": null,
   "metadata": {},
   "outputs": [],
   "source": [
    "reviews.dropna(inplace = True)\n",
    "reviews"
   ]
  },
  {
   "cell_type": "markdown",
   "metadata": {},
   "source": [
    "## 3. Preparación de los datos\n",
    "### 3.1 Limpieza de los datos"
   ]
  },
  {
   "cell_type": "code",
   "execution_count": null,
   "metadata": {},
   "outputs": [],
   "source": [
    "def remove_non_ascii(words):\n",
    "    \"\"\"Remove non-ASCII characters from list of tokenized words\"\"\"\n",
    "    new_words = []\n",
    "    for word in words:\n",
    "        new_word = unicodedata.normalize('NFKD', word).encode('ascii', 'ignore').decode('utf-8', 'ignore')\n",
    "        new_words.append(new_word)\n",
    "    return new_words\n",
    "\n",
    "def remove_punctuation(words):\n",
    "    \"\"\"Remove punctuation from list of tokenized words\"\"\"\n",
    "    new_words = []\n",
    "    for word in words:\n",
    "        new_word = re.sub(r'[^\\w\\s]', '', word)\n",
    "        if new_word != '':\n",
    "            new_words.append(new_word)\n",
    "    return new_words\n",
    "\n",
    "def replace_numbers(words):\n",
    "    \"\"\"Replace all interger occurrences in list of tokenized words with textual representation\"\"\"\n",
    "    p = inflect.engine()\n",
    "    new_words = []\n",
    "    for word in words:\n",
    "        if word.isdigit():\n",
    "            new_word = p.number_to_words(word)\n",
    "            new_words.append(new_word)\n",
    "        else:\n",
    "            new_words.append(word)\n",
    "    return new_words\n",
    "def to_lowercase(words):\n",
    "    \"\"\"Convert all characters to lowercase from list of tokenized words\"\"\"\n",
    "    new_words = []\n",
    "    for word in words:\n",
    "        new_words.append(words.lower())\n",
    "    return new_words\n",
    "\n",
    "def remove_stopwords(words):\n",
    "    \"\"\"Remove stop words from list of tokenized words\"\"\"\n",
    "    new_words = []\n",
    "    stop_words = set(stopwords.words('english'))\n",
    "    for word in words:\n",
    "        if word not in stop_words:\n",
    "            new_words.append(word)\n",
    "    return new_words\n",
    "\n",
    "def preprocessing(words):\n",
    "    words = to_lowercase(words)\n",
    "    words = replace_numbers(words)\n",
    "    words = remove_punctuation(words)\n",
    "    words = remove_non_ascii(words)\n",
    "    words = remove_stopwords(words)\n",
    "    return words"
   ]
  },
  {
   "cell_type": "markdown",
   "metadata": {},
   "source": [
    "### 3.2 Tokenización"
   ]
  },
  {
   "cell_type": "code",
   "execution_count": null,
   "metadata": {},
   "outputs": [],
   "source": [
    "# Se preparan los reviews para la tokenización\n",
    "reviews['reviewText'] = reviews['reviewText'].apply(contractions.fix)\n",
    "reviews['summary'] = reviews['summary'].apply(contractions.fix)"
   ]
  },
  {
   "cell_type": "markdown",
   "metadata": {},
   "source": [
    "Se decidió guardar la columna \"summary\" ya que podría aportar información a la representación de los reviews. Para verificar lo anterior, se va a crear una representación que solo tiene en cuenta la columna \"reviewText\" y otra que va tener las columnas \"reviewText\" y \"Summary\" concatenadas."
   ]
  },
  {
   "cell_type": "code",
   "execution_count": null,
   "metadata": {},
   "outputs": [],
   "source": [
    "reviews_summary = reviews.copy()\n",
    "reviews_summary['reviewText'] = reviews_summary['reviewText'] + ' ' + reviews_summary['summary']\n",
    "reviews_summary = reviews_summary[['reviewText', 'overall']]\n",
    "reviews = reviews[['reviewText', 'overall']]"
   ]
  },
  {
   "cell_type": "code",
   "execution_count": null,
   "metadata": {},
   "outputs": [],
   "source": [
    "reviews_summary['words'] = reviews_summary['reviewText'].apply(word_tokenize).apply(preprocessing)\n",
    "reviews['words'] = reviews['reviewText'].apply(word_tokenize).apply(preprocessing) #Aplica la eliminación del ruido\n",
    "reviews.head()"
   ]
  },
  {
   "cell_type": "markdown",
   "metadata": {},
   "source": [
    "### 3.3 Normalización"
   ]
  },
  {
   "cell_type": "code",
   "execution_count": null,
   "metadata": {},
   "outputs": [],
   "source": [
    "def stem_words(words):\n",
    "    \"\"\"Stem words in list of tokenized words\"\"\"\n",
    "    lancaster=LancasterStemmer()\n",
    "    new_words =[]\n",
    "    for word in words:\n",
    "        new_words.append(lancaster.stem(word))\n",
    "    return new_words    \n",
    "\n",
    "def lemmatize_verbs(words):\n",
    "    \"\"\"Lemmatize verbs in list of tokenized words\"\"\"\n",
    "\n",
    "def stem_and_lemmatize(words):\n",
    "    stems = stem_words(words)\n",
    "    lemmas = lemmatize_verbs(words)\n",
    "    return stems + lemmas"
   ]
  },
  {
   "cell_type": "code",
   "execution_count": 35,
   "metadata": {},
   "outputs": [
    {
     "name": "stdout",
     "output_type": "stream",
     "text": [
      "Reviews filas: 982596, columnas: 2\n",
      "Reviews + Summary filas: 982596, columnas: 2\n"
     ]
    }
   ],
   "source": [
    "# Dimensiones de los datos\n",
    "rows, cols = reviews.shape\n",
    "print(f\"Reviews filas: {rows}, columnas: {cols}\")\n",
    "rows, cols = reviews_summary.shape\n",
    "print(f\"Reviews + Summary filas: {rows}, columnas: {cols}\")"
   ]
  },
  {
   "cell_type": "code",
   "execution_count": null,
   "metadata": {},
   "outputs": [],
   "source": []
  }
 ],
 "metadata": {
  "kernelspec": {
   "display_name": "Python 3 (ipykernel)",
   "language": "python",
   "name": "python3"
  },
  "language_info": {
   "codemirror_mode": {
    "name": "ipython",
    "version": 3
   },
   "file_extension": ".py",
   "mimetype": "text/x-python",
   "name": "python",
   "nbconvert_exporter": "python",
   "pygments_lexer": "ipython3",
   "version": "3.7.6"
  }
 },
 "nbformat": 4,
 "nbformat_minor": 4
}
